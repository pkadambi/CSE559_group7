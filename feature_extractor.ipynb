{
 "cells": [
  {
   "cell_type": "code",
   "execution_count": 1,
   "id": "646c58bb-4b54-46a4-b095-b059267804a1",
   "metadata": {
    "scrolled": true
   },
   "outputs": [
    {
     "name": "stderr",
     "output_type": "stream",
     "text": [
      "Intel(R) Extension for Scikit-learn* enabled (https://github.com/intel/scikit-learn-intelex)\n"
     ]
    }
   ],
   "source": [
    "from sklearnex import patch_sklearn\n",
    "patch_sklearn()"
   ]
  },
  {
   "cell_type": "code",
   "execution_count": 2,
   "id": "1dbf9b32-ee4a-4238-b456-1232c188eec4",
   "metadata": {},
   "outputs": [
    {
     "name": "stderr",
     "output_type": "stream",
     "text": [
      "/home/prad/miniforge3/envs/pt251/lib/python3.10/site-packages/tqdm/auto.py:21: TqdmWarning: IProgress not found. Please update jupyter and ipywidgets. See https://ipywidgets.readthedocs.io/en/stable/user_install.html\n",
      "  from .autonotebook import tqdm as notebook_tqdm\n"
     ]
    }
   ],
   "source": [
    "from torch.utils.data import DataLoader\n",
    "import seaborn as sns\n",
    "import numpy as np\n",
    "import re\n",
    "import torch\n",
    "import tqdm\n",
    "import pandas as pd\n",
    "import tqdm \n",
    "from transformers import BertModel, BertTokenizer\n",
    "import pandas as pd\n",
    "import pickle as pkl\n",
    "import datasets \n",
    "from datasets import Dataset\n",
    "from transformers import AutoTokenizer, AutoModel\n",
    "btok = AutoTokenizer.from_pretrained('bert-base-uncased')\n",
    "bmod = AutoModel.from_pretrained('bert-base-uncased')\n",
    "tokenizer = BertTokenizer.from_pretrained(\"wukevin/tcr-bert\", do_lower_case=False)\n",
    "model = BertModel.from_pretrained(\"wukevin/tcr-bert\")\n",
    "\n",
    "# if torch.cuda.is_available():\n",
    "model.to('cuda')\n",
    "model = model.half()\n"
   ]
  },
  {
   "cell_type": "code",
   "execution_count": 3,
   "id": "84cacd1f-de79-427c-83f0-2487cc6feffb",
   "metadata": {},
   "outputs": [],
   "source": [
    "dfetr=pd.read_csv('./data/BAP/epi_split/train.csv', header=None)\n",
    "dfete=pd.read_csv('./data/BAP/epi_split/test.csv', header=None)\n",
    "dfetr.columns = ['Epitope', 'TCR', 'Label']\n",
    "dfete.columns = ['Epitope', 'TCR', 'Label']\n",
    "\n",
    "dfttr=pd.read_csv('./data/BAP/tcr_split/train.csv', header=None)\n",
    "dftte=pd.read_csv('./data/BAP/tcr_split/test.csv', header=None)\n",
    "dfttr.columns = ['Epitope', 'TCR', 'Label']\n",
    "dftte.columns = ['Epitope', 'TCR', 'Label']\n",
    "\n",
    "\n",
    "dfho_epi=pd.read_csv('./data/true_hold_out/epitope_split_test.csv', header=None)\n",
    "dfho_tcr=pd.read_csv('./data/true_hold_out/tcr_split_test.csv', header=None)\n",
    "dfho_epi.columns = ['Epitope', 'TCR'] \n",
    "dfho_tcr.columns = ['Epitope', 'TCR']\n",
    "\n",
    "dfemb=pd.read_csv('./data/embedding/TCRrepertoires.csv', header=None)\n"
   ]
  },
  {
   "cell_type": "code",
   "execution_count": 4,
   "id": "682c2400-90d1-4bfe-a8df-42b48ea53339",
   "metadata": {},
   "outputs": [
    {
     "name": "stdout",
     "output_type": "stream",
     "text": [
      "Maximum combined TCR + epitope length\n",
      "68\n",
      "Maximum epitope length\n",
      "43\n",
      "Maximum TCr length\n",
      "36\n",
      "Maximum Tokenized length for joint seq, will be cut down to 64 because that's maxlen for the bert model\n",
      "73\n",
      "Maximum Epitope tokenized length\n",
      "48\n",
      "Maximum TCR tokenized length\n"
     ]
    },
    {
     "data": {
      "text/plain": [
       "41"
      ]
     },
     "execution_count": 4,
     "metadata": {},
     "output_type": "execute_result"
    }
   ],
   "source": [
    "print('Maximum combined TCR + epitope length')\n",
    "print(max(np.array(dfetr.TCR.str.len()+dfetr.Epitope.str.len()+3)))\n",
    "\n",
    "print('Maximum epitope length')\n",
    "print(max(dfttr.Epitope.str.len()))\n",
    "\n",
    "\n",
    "print('Maximum TCr length')\n",
    "print(max(dftte.TCR.str.len()))\n",
    "\n",
    "print(\"Maximum Tokenized length for joint seq, will be cut down to 64 because that's maxlen for the bert model\")\n",
    "asdf = ' '.join(['*']+['A']*68+['|', '|'])\n",
    "# len(asdf)\n",
    "print(len(tokenizer(asdf)['input_ids']))\n",
    "\n",
    "\n",
    "print('Maximum Epitope tokenized length')\n",
    "asdf = ' '.join(['*']+['A']*43+['|', '|'])\n",
    "print(len(tokenizer(asdf)['input_ids']))\n",
    "\n",
    "\n",
    "print('Maximum TCR tokenized length')\n",
    "asdf = ' '.join(['*']+['A']*36+['|', '|'])\n",
    "len(tokenizer(asdf)['input_ids'])\n"
   ]
  },
  {
   "cell_type": "code",
   "execution_count": 5,
   "id": "990f2c3b-bbf6-470c-beda-4f7f0dbe7bc7",
   "metadata": {},
   "outputs": [],
   "source": [
    "class BindingDataset:\n",
    "    def __init__(self, inputdf: pd.DataFrame):\n",
    "        self.epi = inputdf.Epitope.values\n",
    "        self.tcr = inputdf.TCR.values\n",
    "\n",
    "        if 'Label' in inputdf.columns:\n",
    "            self.label = inputdf.Label.values\n",
    "        else:\n",
    "            self.label = None\n",
    "            \n",
    "    def return_as_dict(self) -> dict:\n",
    "        if self.label is not None:\n",
    "            return {'Epitopes': self.epi, 'TCR': self.tcr, 'Labels': self.label}\n",
    "        else: \n",
    "            return {'Epitopes': self.epi, 'TCR': self.tcr}\n",
    "    \n",
    "    def return_as_datasets(self) -> Dataset:\n",
    "        return Dataset.from_dict(self.return_as_dict())\n",
    "    \n",
    "    def __len__(self):\n",
    "        return len(self.epi)\n",
    "\n",
    "    def __getitem__(self, idx):\n",
    "        if self.label is not None:\n",
    "            return self.epi[idx], self.tcr[idx], self.label[idx]\n",
    "        else:\n",
    "            return self.epi[idx], self.tcr[idx]"
   ]
  },
  {
   "cell_type": "code",
   "execution_count": 6,
   "id": "a3e3b5fb-e974-41cc-8b85-bb86b74503ab",
   "metadata": {},
   "outputs": [],
   "source": [
    "def cls_sep_sep_proc_for_tokenize_tcrbert(inp_sequences_dict, tokenizer, split=None):\n",
    "    epis = inp_sequences_dict['Epitopes']\n",
    "    tcrs = inp_sequences_dict['TCR']\n",
    "\n",
    "    #TODO: figure out if the split is 'tcr' or 'epi' whether TCR or epi should come first\n",
    "#     seqs =  [f'{tokenizer.cls_token}{_tcr}{tokenizer.sep_token}{_epi}{tokenizer.sep_token}' for _epi, _tcr in zip(epis, tcrs)]\n",
    "    seqs =  [f\"{tokenizer.cls_token} {' '.join(_tcr)} {tokenizer.sep_token} {' '.join(_epi)} {tokenizer.sep_token}\" for _epi, _tcr in zip(epis, tcrs)]\n",
    "    return seqs\n",
    "\n",
    "def single_sep_proc_for_tokenize_tcrbert(inp_sequences_dict, tokenizer, cls=True):\n",
    "    epis = inp_sequences_dict['Epitopes']\n",
    "    tcrs = inp_sequences_dict['TCR']\n",
    "   \n",
    "    epi_seqs =  [f\"{tokenizer.cls_token} {' '.join(_epi)} {tokenizer.sep_token}\" for _epi, _tcr in zip(epis, tcrs)]\n",
    "    tcr_seqs =  [f\"{tokenizer.cls_token} {' '.join(_tcr)} {tokenizer.sep_token}\" for _epi, _tcr in zip(epis, tcrs)]\n",
    "\n",
    "    return epi_seqs, tcr_seqs\n",
    "    \n",
    "    \n",
    "def cls_sep_sep_proc_for_tokenizeT5(inp_sequences_dict, tokenizer, split=None):\n",
    "    epis = inp_sequences_dict['Epitopes']\n",
    "    tcrs = inp_sequences_dict['TCR']\n",
    "    \n",
    "    #TODO: figure out if the split is 'tcr' or 'epi' whether TCR or epi should come first\n",
    "    seqs =  [f'[PMHC]{_epi}[SEP]{_tcr}[EOS]' for _epi, _tcr in zip(epis, tcrs)]\n",
    "    return seqs\n",
    "    \n",
    "def single_sep_proc_for_tokenizeT5(inp_sequences_dict, tokenizer):\n",
    "    epis = inp_sequences_dict['Epitopes']\n",
    "    tcrs = inp_sequences_dict['TCR']\n",
    "    epi_seqs =  [f'[PMHC]{_epi}[EOS]' for _epi, _tcr in zip(epis, tcrs)]\n",
    "    tcr_seqs =  [f'[PMHC]{_tcr}[EOS]' for _epi, _tcr in zip(epis, tcrs)]\n",
    "              \n",
    "    return epi_seqs, tcr_seqs"
   ]
  },
  {
   "cell_type": "code",
   "execution_count": 7,
   "id": "860cccbd-886f-478d-a2a1-80adf150a9bf",
   "metadata": {},
   "outputs": [],
   "source": [
    "def get_full_and_cls_emb(inpseqs, tokenizer, model, maxlen, modelname='bert'):\n",
    "    \n",
    "    #NOTICE: CANNOT USE MAX_LENGTH GREATER THAN 64\n",
    "    try:\n",
    "        tokenized = tokenizer(inpseqs, return_tensors='pt', padding='max_length', max_length=maxlen, truncation=True)\n",
    "    except:\n",
    "        print('Error on batch:')\n",
    "        print(inpseqs)\n",
    "        print(maxlen)\n",
    "    tokenized = {key:value.to('cuda') for key, value in tokenized.items()}\n",
    "    # print(outputs)\n",
    "    if modelname.lower()=='bert':\n",
    "        outputs = model(**tokenized)\n",
    "        outputsfull = outputs.last_hidden_state.cpu().numpy()\n",
    "        outputscls = outputs.pooler_output.cpu().numpy() # the cls token\n",
    "        \n",
    "    elif modelname.lower()=='t5':\n",
    "        try:\n",
    "            outputs = model.encoder(**tokenized)\n",
    "        except:\n",
    "            print('INputs:\\t\\n', inpseqs)\n",
    "            print('Tokenized:\\t\\n', tokenized)\n",
    "        outputsfull = outputs.last_hidden_state.cpu().numpy()\n",
    "        outputscls = outputs.last_hidden_state.cpu().numpy()\n",
    "    return outputsfull, outputscls\n",
    "    \n",
    "def get_embeddings_dict_for_dataset_df(df, model, tokenizer, device = 'cuda', batch_size=256, epi_maxlen=60, tcr_maxlen=50, joint_maxlen=64, modelname='bert'):\n",
    "    ds = BindingDataset(df)\n",
    "    dl = DataLoader(ds, shuffle=False, batch_size=batch_size)\n",
    "    \n",
    "    model = model.to(device)\n",
    "    joint_full = []\n",
    "    epi_full = []\n",
    "    tcr_full = []    \n",
    "        \n",
    "    joint_pooled = []\n",
    "    epi_pooled = []\n",
    "    tcr_pooled = []\n",
    "\n",
    "    labels = []\n",
    "\n",
    "    totexamples = 0\n",
    "    totiters = 0\n",
    "    for ii, batch in tqdm.tqdm(enumerate(dl)):\n",
    "        if len(batch)==3:\n",
    "            epi, tcr, label = batch[0], batch[1], batch[2]\n",
    "        else:\n",
    "            epi, tcr = batch[0], batch[1]\n",
    "            label = None\n",
    "            \n",
    "        if modelname.lower()=='t5':\n",
    "            joint = cls_sep_sep_proc_for_tokenizeT5({'Epitopes':epi, 'TCR': tcr}, tokenizer)\n",
    "            epis, tcrs = single_sep_proc_for_tokenizeT5({'Epitopes':epi, 'TCR': tcr}, tokenizer)\n",
    "        elif modelname=='bert':\n",
    "            joint = cls_sep_sep_proc_for_tokenize_tcrbert({'Epitopes':epi, 'TCR': tcr}, tokenizer)\n",
    "            epis, tcrs = single_sep_proc_for_tokenize_tcrbert({'Epitopes':epi, 'TCR': tcr}, tokenizer)\n",
    "        \n",
    "        with torch.no_grad():\n",
    "            # tokenized = tokenizer(seqs, return_tensors='pt')\n",
    "            # tokenized_joint = {key:value.to('cuda') for key, value in tokenized.items()}\n",
    "            # joint_outputs = model(**tokenized)\n",
    "            _jointfull, _jointcls = get_full_and_cls_emb(joint, tokenizer, model, maxlen=joint_maxlen, modelname=modelname)\n",
    "            _episfull, _episcls = get_full_and_cls_emb(epis, tokenizer, model, maxlen=epi_maxlen, modelname=modelname)\n",
    "            _tcrsfull, _tcrscls = get_full_and_cls_emb(tcrs, tokenizer, model, maxlen=tcr_maxlen, modelname=modelname)\n",
    "            \n",
    "            joint_full.append(_jointfull.mean(axis=1))\n",
    "            joint_pooled.append(_jointcls)\n",
    "    \n",
    "            epi_full.append(_jointfull.mean(axis=1))\n",
    "            epi_pooled.append(_jointcls)\n",
    "    \n",
    "            tcr_full.append(_tcrsfull.mean(axis=1))\n",
    "            tcr_pooled.append(_tcrscls)\n",
    "\n",
    "        if label is not None:\n",
    "            labels.append(label)            \n",
    "        totexamples+=len(epi)\n",
    "        totiters+=1\n",
    "        \n",
    "    print(f'Finished {totiters} iterations...\\n Embedded {totexamples} Examples.')\n",
    "\n",
    "    dct = {'joint_full':np.concatenate(joint_full, axis=0), \n",
    "            'epi_full':np.concatenate(epi_full, axis=0), \n",
    "            'tcr_full':np.concatenate(tcr_full, axis=0),\n",
    "            'joint_pooled':np.concatenate(joint_pooled, axis=0),\n",
    "            'epi_pooled':np.concatenate(epi_pooled, axis=0),\n",
    "            'tcr_pooled':np.concatenate(tcr_pooled, axis=0),}\n",
    "\n",
    "    if len(labels)>0:\n",
    "        dct['labels'] = np.concatenate(labels, axis=0)\n",
    "\n",
    "    return dct\n",
    "\n",
    "\n",
    "def generate_and_save_embs(inputdf, model, tokenizer, dctname, modelname='bert'):\n",
    "    print('Computing Embeddings...')\n",
    "    emb_dct =  get_embeddings_dict_for_dataset_df(inputdf, model, tokenizer, modelname=modelname)\n",
    "    print('Saving Embeddings...')\n",
    "    pkl.dump(emb_dct, open(dctname, 'wb'), protocol=4)\n",
    "    del emb_dct"
   ]
  },
  {
   "cell_type": "code",
   "execution_count": null,
   "id": "53a89c9d-17fd-4e35-b529-0b8971b6706f",
   "metadata": {},
   "outputs": [],
   "source": []
  },
  {
   "cell_type": "code",
   "execution_count": null,
   "id": "9b6c6081-80ee-44c0-bb8b-d736f96de901",
   "metadata": {},
   "outputs": [],
   "source": [
    "# Extract TCR BERT features"
   ]
  },
  {
   "cell_type": "code",
   "execution_count": null,
   "id": "aa4bf44f-73fc-4f3a-9975-6eab331811fa",
   "metadata": {},
   "outputs": [],
   "source": [
    "print('--------------------------------------------------------------------------')\n",
    "print('---------------------------- Holdout Epi ---------------------------------')\n",
    "generate_and_save_embs(dfho_epi, model, tokenizer, './embsbert/epi_holdout_dct.pkl')\n",
    "\n",
    "print('--------------------------------------------------------------------------')\n",
    "print('---------------------------- Holdout TCR ---------------------------------')\n",
    "generate_and_save_embs(dfho_tcr, model, tokenizer, './embsbert/tcr_holdout_dct.pkl')"
   ]
  },
  {
   "cell_type": "code",
   "execution_count": null,
   "id": "3f19310e-c50b-4491-9b43-c2b209b976e2",
   "metadata": {},
   "outputs": [],
   "source": [
    "print('--------------------------------------------------------------------------')\n",
    "print('-------------------------- Epitope Train ---------------------------------')\n",
    "generate_and_save_embs(dfetr, model, tokenizer, './embsbert/epi_train_dct.pkl')\n",
    "# epitope_train_dct = get_embeddings_dict_for_dataset_df(dfetr, model, tokenizer)\n",
    "# pkl.dump(epitope_train_dct, open('epi_train_dct.pkl', 'wb'), )\n",
    "print('--------------------------------------------------------------------------')\n",
    "print('-------------------------- Epitope Test- ---------------------------------')\n",
    "generate_and_save_embs(dfete, model, tokenizer, './embsbert/epi_test_dct.pkl')\n",
    "\n",
    "print('--------------------------------------------------------------------------')\n",
    "print('------------------------------ TCR Train ---------------------------------')\n",
    "generate_and_save_embs(dfttr, model, tokenizer, './embsbert/tcr_train_dct.pkl')\n",
    "\n",
    "print('--------------------------------------------------------------------------')\n",
    "print('------------------------------ -TCR Test ---------------------------------')\n",
    "generate_and_save_embs(dftte, model, tokenizer, './embsbert/tcr_test_dct.pkl')"
   ]
  },
  {
   "cell_type": "code",
   "execution_count": null,
   "id": "c5abb9a7-0cfc-4810-a366-d4048c5e0f14",
   "metadata": {},
   "outputs": [],
   "source": []
  },
  {
   "cell_type": "markdown",
   "id": "588cc4d9-5b1f-4796-b980-31da35445868",
   "metadata": {},
   "source": [
    "# Extract T5 Features"
   ]
  },
  {
   "cell_type": "code",
   "execution_count": null,
   "id": "d7523744-1fa3-45f5-8804-0822788d6fdf",
   "metadata": {},
   "outputs": [],
   "source": [
    "del tokenizer\n",
    "del model\n",
    "\n",
    "from transformers import T5Tokenizer, T5ForConditionalGeneration\n",
    "t5tokenizer = T5Tokenizer.from_pretrained('dkarthikeyan1/tcrt5_pre_tcrdb')\n",
    "tcrt5 = T5ForConditionalGeneration.from_pretrained(\"dkarthikeyan1/tcrt5_pre_tcrdb\")\n",
    "pmhc = \"[PMHC]KLGGALQAK[SEP]YFAMYQENVAQTDVDTLYIIYRDYTWAELAYTWY[EOS]\"\n",
    "encoded_pmhc = t5tokenizer(pmhc, return_tensors='pt')\n",
    "\n",
    "# Can be useful for classification/regression downstream tasks\n",
    "with torch.no_grad():\n",
    "    enc_outputs = tcrt5.encoder(**encoded_pmhc)\n",
    "\n",
    "tcrt5.to('cuda')\n"
   ]
  },
  {
   "cell_type": "code",
   "execution_count": null,
   "id": "320031ab-57d6-4334-a6b1-33a8346fd396",
   "metadata": {},
   "outputs": [],
   "source": [
    "print('--------------------------------------------------------------------------')\n",
    "print('---------------------------- Holdout Epi ---------------------------------')\n",
    "generate_and_save_embs(dfho_epi, tcrt5, t5tokenizer, './embsT5/epi_holdout_dct.pkl', modelname='t5')\n",
    "\n",
    "print('--------------------------------------------------------------------------')\n",
    "print('---------------------------- Holdout TCR ---------------------------------')\n",
    "generate_and_save_embs(dfho_tcr, tcrt5, t5tokenizer, './embsT5/tcr_holdout_dct.pkl', modelname='t5')"
   ]
  },
  {
   "cell_type": "code",
   "execution_count": null,
   "id": "ac290986-da1a-4f93-b6e9-007b042caba9",
   "metadata": {},
   "outputs": [],
   "source": [
    "print('--------------------------------------------------------------------------')\n",
    "print('-------------------------- Epitope Train ---------------------------------')\n",
    "generate_and_save_embs(dfetr, tcrt5, t5tokenizer, './embsT5/epi_train_dct.pkl', modelname='t5')\n",
    "# epitope_train_dct = get_embeddings_dict_for_dataset_df(dfetr, model, tokenizer)\n",
    "# pkl.dump(epitope_train_dct, open('epi_train_dct.pkl', 'wb'), )\n",
    "print('--------------------------------------------------------------------------')\n",
    "print('-------------------------- Epitope Test- ---------------------------------')\n",
    "generate_and_save_embs(dfete, tcrt5, t5tokenizer, './embsT5/epi_test_dct.pkl', modelname='t5')\n",
    "\n",
    "print('--------------------------------------------------------------------------')\n",
    "print('------------------------------ TCR Train ---------------------------------')\n",
    "generate_and_save_embs(dfttr, tcrt5, t5tokenizer, './embsT5/tcr_train_dct.pkl', modelname='t5')\n",
    "\n",
    "print('--------------------------------------------------------------------------')\n",
    "print('------------------------------ -TCR Test ---------------------------------')\n",
    "generate_and_save_embs(dftte, tcrt5, t5tokenizer, './embsT5/tcr_test_dct.pkl', modelname='t5')"
   ]
  },
  {
   "cell_type": "code",
   "execution_count": null,
   "id": "e25c23e8-0bc3-4045-9349-b9dc9c9213e7",
   "metadata": {},
   "outputs": [],
   "source": []
  },
  {
   "cell_type": "code",
   "execution_count": null,
   "id": "db9e1632-73bf-4fe1-9b77-f21d4bce4565",
   "metadata": {},
   "outputs": [],
   "source": []
  },
  {
   "cell_type": "code",
   "execution_count": null,
   "id": "644bcd0d-d401-4914-8966-e91e5b03e030",
   "metadata": {},
   "outputs": [],
   "source": []
  },
  {
   "cell_type": "code",
   "execution_count": null,
   "id": "51fb69a2-0aba-4302-8ed9-f3f5c26a5af8",
   "metadata": {},
   "outputs": [],
   "source": []
  },
  {
   "cell_type": "code",
   "execution_count": null,
   "id": "2184cbab-534c-43dc-bc75-1997893daa43",
   "metadata": {},
   "outputs": [],
   "source": []
  },
  {
   "cell_type": "code",
   "execution_count": null,
   "id": "9527d7b2-ee68-45dc-a620-0a32fdc5c67a",
   "metadata": {},
   "outputs": [],
   "source": []
  },
  {
   "cell_type": "code",
   "execution_count": null,
   "id": "cff886c0-f9eb-4e17-98da-376816ea9ec6",
   "metadata": {},
   "outputs": [],
   "source": []
  },
  {
   "cell_type": "code",
   "execution_count": null,
   "id": "438b97c0-58de-4c82-bcd9-d866d1855e4a",
   "metadata": {},
   "outputs": [],
   "source": []
  },
  {
   "cell_type": "code",
   "execution_count": null,
   "id": "f76cdd80-6c5f-4970-b423-afeca1fa946a",
   "metadata": {},
   "outputs": [],
   "source": []
  },
  {
   "cell_type": "code",
   "execution_count": null,
   "id": "58de0196-a30d-41b4-ab84-ad9260b9beb3",
   "metadata": {},
   "outputs": [],
   "source": []
  },
  {
   "cell_type": "code",
   "execution_count": null,
   "id": "d4265c83-e81d-499e-98c8-bc9540b4d05b",
   "metadata": {},
   "outputs": [],
   "source": []
  },
  {
   "cell_type": "code",
   "execution_count": null,
   "id": "2c618193-fe8d-48a4-a748-21ed88f3d32d",
   "metadata": {},
   "outputs": [],
   "source": []
  },
  {
   "cell_type": "markdown",
   "id": "daa3f75a-af12-4c64-aba7-b5d654b9a652",
   "metadata": {},
   "source": [
    "# DEBUGGING"
   ]
  },
  {
   "cell_type": "markdown",
   "id": "10275ae8-314d-4547-9728-72dd56659689",
   "metadata": {},
   "source": [
    "# DEBUGGING"
   ]
  },
  {
   "cell_type": "markdown",
   "id": "992ff1e9-844c-47e4-8701-0ab95271afd7",
   "metadata": {},
   "source": [
    "# DEBUGGING"
   ]
  },
  {
   "cell_type": "markdown",
   "id": "8491dbf5-4b24-4b23-ab5c-039d5bf47465",
   "metadata": {},
   "source": [
    "# DEBUGGING"
   ]
  },
  {
   "cell_type": "code",
   "execution_count": null,
   "id": "61830338-971d-4575-a66c-80b69296d600",
   "metadata": {},
   "outputs": [],
   "source": []
  },
  {
   "cell_type": "code",
   "execution_count": null,
   "id": "0bdd0154-2ec4-4798-9502-262d716a8402",
   "metadata": {},
   "outputs": [],
   "source": []
  },
  {
   "cell_type": "code",
   "execution_count": 21,
   "id": "f75cd73f-9a89-4369-87d4-307a6b4b8929",
   "metadata": {},
   "outputs": [],
   "source": [
    "import numpy as np\n",
    "from sklearn.model_selection import train_test_split\n",
    "from sklearn.preprocessing import StandardScaler\n",
    "from sklearn.decomposition import PCA\n",
    "from sklearn.svm import SVR\n",
    "from sklearn.linear_model import LogisticRegression\n",
    "from sklearn.metrics import accuracy_score, roc_auc_score, f1_score\n",
    "from sklearn.pipeline import Pipeline\n",
    "from sklearn.multioutput import MultiOutputClassifier\n",
    "\n",
    "# Split data into train and test\n",
    "X_train, X_test, y_train, y_test = train_test_split(embs, labels, test_size=0.2, random_state=42)\n",
    "\n",
    "# Normalize -> PCA -> SVR Pipeline\n",
    "svr_pipeline = Pipeline([\n",
    "    ('scaler', StandardScaler()),\n",
    "    ('pca', PCA(n_components=50)),\n",
    "    ('svr', SVR(kernel='rbf'))\n",
    "])\n",
    "\n",
    "# Fit and predict\n",
    "svr_pipeline.fit(X_train, y_train)\n",
    "y_pred_svr = svr_pipeline.predict(X_test)\n",
    "\n",
    "# Since SVR is a regressor, convert predictions to binary labels for classification metrics\n",
    "y_pred_svr_binary = (y_pred_svr > 0.5).astype(int)\n",
    "\n",
    "# Metrics for SVR\n",
    "accuracy_svr = accuracy_score(y_test, y_pred_svr_binary)\n",
    "rocauc_svr = roc_auc_score(y_test, y_pred_svr_binary)\n",
    "f1_svr = f1_score(y_test, y_pred_svr_binary)\n",
    "\n",
    "print(\"SVR Metrics:\")\n",
    "print(f\"Accuracy: {accuracy_svr:.4f}\")\n",
    "print(f\"ROC AUC: {rocauc_svr:.4f}\")\n",
    "print(f\"F1 Score: {f1_svr:.4f}\")\n",
    "\n",
    "# Normalize -> PCA -> Logistic Regression Pipeline\n",
    "from sklearn.neural_network import MLPClassifier\n",
    "clf = MLPClassifier(solver='lbfgs', hidden_layer_sizes=(64, 32, 64) alpha=1e-5)\n",
    "# clf = LogisticRegression(solver='liblinear', random_state=42)\n",
    "logreg_pipeline = Pipeline([\n",
    "    ('scaler', StandardScaler()),\n",
    "    ('pca', PCA(n_components=50)),\n",
    "    ('logreg', clf)\n",
    "])\n",
    "\n",
    "# Fit and predict\n",
    "logreg_pipeline.fit(X_train, y_train)\n",
    "y_pred_logreg = logreg_pipeline.predict(X_test)\n",
    "\n",
    "# Metrics for Logistic Regression\n",
    "accuracy_logreg = accuracy_score(y_test, y_pred_logreg)\n",
    "rocauc_logreg = roc_auc_score(y_test, y_pred_logreg)\n",
    "f1_logreg = f1_score(y_test, y_pred_logreg)\n",
    "\n",
    "print(\"Logistic Regression Metrics:\")\n",
    "print(f\"Accuracy: {accuracy_logreg:.4f}\")\n",
    "print(f\"ROC AUC: {rocauc_logreg:.4f}\")\n",
    "print(f\"F1 Score: {f1_logreg:.4f}\")"
   ]
  },
  {
   "cell_type": "code",
   "execution_count": null,
   "id": "0da57a70-3cc3-4250-99af-a5d589877b04",
   "metadata": {},
   "outputs": [],
   "source": []
  },
  {
   "cell_type": "code",
   "execution_count": null,
   "id": "92113c05-075d-40c1-b2bc-d8b9dfd4ae35",
   "metadata": {},
   "outputs": [],
   "source": []
  },
  {
   "cell_type": "code",
   "execution_count": null,
   "id": "66988b92-cee0-42ac-9fe8-c2256481837f",
   "metadata": {},
   "outputs": [],
   "source": []
  },
  {
   "cell_type": "code",
   "execution_count": 9,
   "id": "917bcc6f-d2bd-4945-8a0e-ccc04184de75",
   "metadata": {},
   "outputs": [],
   "source": []
  },
  {
   "cell_type": "code",
   "execution_count": 10,
   "id": "d3e4faa6-53c7-43f0-916a-5403fd2d8c99",
   "metadata": {},
   "outputs": [],
   "source": []
  },
  {
   "cell_type": "code",
   "execution_count": 17,
   "id": "9a28be9d-f109-4034-b5ae-cecec8a08575",
   "metadata": {},
   "outputs": [],
   "source": []
  },
  {
   "cell_type": "code",
   "execution_count": null,
   "id": "362025b0-58c2-4b37-967b-dac5a8d00631",
   "metadata": {},
   "outputs": [],
   "source": []
  },
  {
   "cell_type": "code",
   "execution_count": 23,
   "id": "1235808a-b999-48c2-a960-82b36951e3dc",
   "metadata": {},
   "outputs": [
    {
     "ename": "NameError",
     "evalue": "name 'ems' is not defined",
     "output_type": "error",
     "traceback": [
      "\u001b[0;31m---------------------------------------------------------------------------\u001b[0m",
      "\u001b[0;31mNameError\u001b[0m                                 Traceback (most recent call last)",
      "Cell \u001b[0;32mIn[23], line 74\u001b[0m\n\u001b[1;32m     71\u001b[0m     \u001b[38;5;28mprint\u001b[39m(\u001b[38;5;124mf\u001b[39m\u001b[38;5;124m\"\u001b[39m\u001b[38;5;124mPrecision score: \u001b[39m\u001b[38;5;132;01m{\u001b[39;00mprec_svr\u001b[38;5;132;01m:\u001b[39;00m\u001b[38;5;124m.4f\u001b[39m\u001b[38;5;132;01m}\u001b[39;00m\u001b[38;5;124m\"\u001b[39m)\n\u001b[1;32m     72\u001b[0m     \u001b[38;5;28mprint\u001b[39m(\u001b[38;5;124mf\u001b[39m\u001b[38;5;124m\"\u001b[39m\u001b[38;5;124mRecall score: \u001b[39m\u001b[38;5;132;01m{\u001b[39;00mrec_svr\u001b[38;5;132;01m:\u001b[39;00m\u001b[38;5;124m.4f\u001b[39m\u001b[38;5;132;01m}\u001b[39;00m\u001b[38;5;124m\"\u001b[39m)\n\u001b[0;32m---> 74\u001b[0m report_svm_results(\u001b[43mems\u001b[49m)\n\u001b[1;32m     79\u001b[0m \u001b[38;5;66;03m# Normalize -> PCA -> Logistic Regression Pipeline\u001b[39;00m\n\u001b[1;32m     80\u001b[0m \u001b[38;5;28;01mfrom\u001b[39;00m \u001b[38;5;21;01msklearn\u001b[39;00m\u001b[38;5;21;01m.\u001b[39;00m\u001b[38;5;21;01mneural_network\u001b[39;00m \u001b[38;5;28;01mimport\u001b[39;00m MLPClassifier\n",
      "\u001b[0;31mNameError\u001b[0m: name 'ems' is not defined"
     ]
    }
   ],
   "source": [
    "import numpy as np\n",
    "from sklearn.svm import SVC\n",
    "from sklearn.model_selection import train_test_split\n",
    "from sklearn.preprocessing import StandardScaler\n",
    "from sklearn.decomposition import PCA\n",
    "from sklearn.svm import SVR, SVC\n",
    "from sklearn.linear_model import LogisticRegression\n",
    "from sklearn.metrics import accuracy_score, roc_auc_score, f1_score, precision_score, recall_score\n",
    "from sklearn.pipeline import Pipeline\n",
    "from sklearn.multioutput import MultiOutputClassifier\n",
    "\n",
    "\n",
    "def report_svm_results(embs_tr, y_tr, embs_te, y_te, svm_type='reg'):\n",
    "\n",
    "    # Split data into train and test\n",
    "    X_train, X_valid, y_valid, y_valid = train_test_split(emb, labels, test_size=0.2, random_state=42)\n",
    "\n",
    "    X_test = embs_te\n",
    "    y_test = y_te\n",
    "    if svm_type=='reg':\n",
    "        SVMClass = SVR\n",
    "    else:\n",
    "        SVMClass = SVC\n",
    "    # Normalize -> PCA -> SVR Pipeline\n",
    "    svr_pipeline = Pipeline([\n",
    "        ('scaler', StandardScaler()),\n",
    "        ('pca', PCA(n_components=50)),\n",
    "        ('svr', SVMClass())\n",
    "    ])\n",
    "    \n",
    "    # Fit and predict\n",
    "    svr_pipeline.fit(X_train, y_train)\n",
    "    y_pred_svr = svr_pipeline.predict(X_valid)\n",
    "    \n",
    "    # Since SVR is a regressor, convert predictions to binary labels for classification metrics\n",
    "    y_pred_svr_binary = (y_pred_svr > 0.5).astype(int)\n",
    "    \n",
    "    # Metrics for SVR\n",
    "    accuracy_svr = accuracy_score(y_valid, y_pred_svr_binary)\n",
    "    rocauc_svr = roc_auc_score(y_valid, y_pred_svr_binary)\n",
    "    f1_svr = f1_score(y_valid, y_pred_svr_binary)\n",
    "    prec_svr = precision_score(y_valid, y_pred_svr_binary)\n",
    "    rec_svr = recall_score(y_valid, y_pred_svr_binary)\n",
    "\n",
    "    print(\"=======================================================\")\n",
    "    print('VALIDATION Metrics')\n",
    "    print(\"SVR Metrics: \")\n",
    "    print(f\"Accuracy: {accuracy_svr:.4f}\")\n",
    "    print(f\"ROC AUC: {rocauc_svr:.4f}\")\n",
    "    print(f\"F1 Score: {f1_svr:.4f}\")\n",
    "    print(f\"Precision score: {prec_svr:.4f}\")\n",
    "    print(f\"Recall score: {rec_svr:.4f}\")\n",
    "\n",
    "    y_pred_svr = svr_pipeline.predict(X_test)\n",
    "    \n",
    "    # Since SVR is a regressor, convert predictions to binary labels for classification metrics\n",
    "    y_pred_svr_binary = (y_pred_svr > 0.5).astype(int)\n",
    "    \n",
    "    # Metrics for SVR\n",
    "    accuracy_svr = accuracy_score(y_test, y_pred_svr_binary)\n",
    "    rocauc_svr = roc_auc_score(y_test, y_pred_svr_binary)\n",
    "    f1_svr = f1_score(y_test, y_pred_svr_binary)\n",
    "    prec_svr = precision_score(y_test, y_pred_svr_binary)\n",
    "    rec_svr = recall_score(y_test, y_pred_svr_binary)\n",
    "    \n",
    "    print(\"=======================================================\")\n",
    "    print('Test set Metrics')\n",
    "    print(f\"Accuracy: {accuracy_svr:.4f}\")\n",
    "    print(f\"ROC AUC: {rocauc_svr:.4f}\")\n",
    "    print(f\"F1 Score: {f1_svr:.4f}\")\n",
    "    print(f\"Precision score: {prec_svr:.4f}\")\n",
    "    print(f\"Recall score: {rec_svr:.4f}\")\n",
    "    \n",
    "report_svm_results(ems)\n",
    "\n",
    "\n",
    "\n",
    "\n",
    "# Normalize -> PCA -> Logistic Regression Pipeline\n",
    "# from sklearn.neural_network import MLPClassifier\n",
    "# # clf = MLPClassifier(solver='lbfgs', hidden_layer_sizes=(64, 32, 64), alpha=1e-5)\n",
    "# clf = LogisticRegression(solver='liblinear', random_state=42)\n",
    "# logreg_pipeline = Pipeline([\n",
    "    # ('scaler', StandardScaler()),\n",
    "    # ('pca', PCA(n_components=50)),\n",
    "    # ('logreg', clf)\n",
    "# ])\n",
    "\n",
    "# Fit and predict\n",
    "# logreg_pipeline.fit(X_train, y_train)\n",
    "# y_pred_logreg = logreg_pipeline.predict(X_test)\n",
    "\n",
    "# Metrics for Logistic Regression\n",
    "# accuracy_logreg = accuracy_score(y_test, y_pred_logreg)\n",
    "# rocauc_logreg = roc_auc_score(y_test, y_pred_logreg)\n",
    "# f1_logreg = f1_score(y_test, y_pred_logreg)\n",
    "# prec_logreg = precision_score(y_test, y_pred_svr_binary)\n",
    "# rec_logreg = recall_score(y_test, y_pred_svr_binary)\n",
    "\n",
    "# print(\"Logistic Regression Metrics:\")\n",
    "# print(f\"Accuracy: {accuracy_logreg:.4f}\")\n",
    "# print(f\"ROC AUC: {rocauc_logreg:.4f}\")\n",
    "# print(f\"F1 Score: {f1_logreg:.4f}\")\n",
    "\n",
    "\n"
   ]
  },
  {
   "cell_type": "code",
   "execution_count": 24,
   "id": "1f251f40-1d77-40bc-9464-06cc5f29f2dd",
   "metadata": {},
   "outputs": [
    {
     "data": {
      "text/plain": [
       "dict_keys(['joint_full', 'epi_full', 'tcr_full', 'joint_pooled', 'epi_pooled', 'tcr_pooled', 'labels'])"
      ]
     },
     "execution_count": 24,
     "metadata": {},
     "output_type": "execute_result"
    }
   ],
   "source": [
    "import pickle as pkl\n",
    "dct = pkl.load(open('./embsbert/epi_train_dct.pkl', 'rb'))\n",
    "dct_te = pkl.load(open('./embsbert/epi_test_dct.pkl', 'rb'))\n",
    "import numpy as np\n",
    "\n",
    "\n",
    "emb_agg_method = 'full'\n",
    "\n",
    "embs = dct[f'joint_{emb_agg_method}']\n",
    "labels = dfetr.Label.values\n",
    "\n",
    "embs_te = dct_te[f'joint_{emb_agg_method}']\n",
    "labels_te = dfete.Label.values\n",
    "\n",
    "dct.keys()\n"
   ]
  },
  {
   "cell_type": "code",
   "execution_count": 20,
   "id": "ce7fdf8b-04f1-4335-8b66-eb34ea42b879",
   "metadata": {},
   "outputs": [
    {
     "name": "stderr",
     "output_type": "stream",
     "text": [
      "/tmp/ipykernel_297473/2210601335.py:2: MatplotlibDeprecationWarning: The 'labels' parameter of boxplot() has been renamed 'tick_labels' since Matplotlib 3.9; support for the old name will be dropped in 3.11.\n",
      "  plt.boxplot([mlp_scores, xgb_scores, svc_scores], labels=['MLP', 'XGBoost', 'SVC'])\n"
     ]
    },
    {
     "data": {
      "image/png": "[encoded data removed]",
      "text/plain": [
       "<Figure size 640x480 with 1 Axes>"
      ]
     },
     "metadata": {},
     "output_type": "display_data"
    }
   ],
   "source": [
    "# Plot the results\n",
    "plt.boxplot([mlp_scores, xgb_scores, svc_scores], labels=['MLP', 'XGBoost', 'SVC'])\n",
    "plt.ylabel('Validation Accuracy')\n",
    "plt.title('Model Comparison')\n",
    "plt.show()"
   ]
  },
  {
   "cell_type": "code",
   "execution_count": null,
   "id": "9c2c5e49-1fb5-4196-9340-2203c0a64a88",
   "metadata": {},
   "outputs": [
    {
     "name": "stderr",
     "output_type": "stream",
     "text": [
      "0it [00:00, ?it/s]"
     ]
    },
    {
     "name": "stdout",
     "output_type": "stream",
     "text": [
      "Fold 0\n"
     ]
    },
    {
     "name": "stderr",
     "output_type": "stream",
     "text": [
      "/home/prad/miniforge3/envs/pt251/lib/python3.10/site-packages/sklearn/base.py:474: FutureWarning: `BaseEstimator._validate_data` is deprecated in 1.6 and will be removed in 1.7. Use `sklearn.utils.validation.validate_data` instead. This function becomes public and is part of the scikit-learn developer API.\n",
      "  warnings.warn(\n",
      "/home/prad/miniforge3/envs/pt251/lib/python3.10/site-packages/sklearn/base.py:493: FutureWarning: `BaseEstimator._check_feature_names` is deprecated in 1.6 and will be removed in 1.7. Use `sklearn.utils.validation._check_feature_names` instead.\n",
      "  warnings.warn(\n",
      "/home/prad/miniforge3/envs/pt251/lib/python3.10/site-packages/sklearn/base.py:474: FutureWarning: `BaseEstimator._validate_data` is deprecated in 1.6 and will be removed in 1.7. Use `sklearn.utils.validation.validate_data` instead. This function becomes public and is part of the scikit-learn developer API.\n",
      "  warnings.warn(\n",
      "/home/prad/miniforge3/envs/pt251/lib/python3.10/site-packages/sklearn/base.py:493: FutureWarning: `BaseEstimator._check_feature_names` is deprecated in 1.6 and will be removed in 1.7. Use `sklearn.utils.validation._check_feature_names` instead.\n",
      "  warnings.warn(\n",
      "/home/prad/miniforge3/envs/pt251/lib/python3.10/site-packages/sklearn/base.py:474: FutureWarning: `BaseEstimator._validate_data` is deprecated in 1.6 and will be removed in 1.7. Use `sklearn.utils.validation.validate_data` instead. This function becomes public and is part of the scikit-learn developer API.\n",
      "  warnings.warn(\n",
      "/home/prad/miniforge3/envs/pt251/lib/python3.10/site-packages/sklearn/neural_network/_multilayer_perceptron.py:698: UserWarning: Training interrupted by user.\n",
      "  warnings.warn(\"Training interrupted by user.\")\n",
      "/home/prad/miniforge3/envs/pt251/lib/python3.10/site-packages/sklearn/neural_network/_multilayer_perceptron.py:698: UserWarning: Training interrupted by user.\n",
      "  warnings.warn(\"Training interrupted by user.\")\n",
      "/home/prad/miniforge3/envs/pt251/lib/python3.10/site-packages/sklearn/neural_network/_multilayer_perceptron.py:698: UserWarning: Training interrupted by user.\n",
      "  warnings.warn(\"Training interrupted by user.\")\n",
      "/home/prad/miniforge3/envs/pt251/lib/python3.10/site-packages/sklearn/neural_network/_multilayer_perceptron.py:698: UserWarning: Training interrupted by user.\n",
      "  warnings.warn(\"Training interrupted by user.\")\n",
      "/home/prad/miniforge3/envs/pt251/lib/python3.10/site-packages/sklearn/neural_network/_multilayer_perceptron.py:698: UserWarning: Training interrupted by user.\n",
      "  warnings.warn(\"Training interrupted by user.\")\n"
     ]
    }
   ],
   "source": [
    "import tqdm\n",
    "import numpy as np\n",
    "import pandas as pd\n",
    "from sklearn.model_selection import train_test_split, GridSearchCV, KFold\n",
    "from sklearn.preprocessing import StandardScaler\n",
    "from sklearn.decomposition import PCA\n",
    "from sklearn.neural_network import MLPClassifier\n",
    "from sklearn.ensemble import GradientBoostingClassifier\n",
    "from sklearn.svm import SVC\n",
    "import matplotlib.pyplot as plt\n",
    "\n",
    "kf = KFold(n_splits=5, shuffle=True, random_state=42)\n",
    "\n",
    "def train_and_evaluate(X, y, model, param_grid=None):\n",
    "    scores = []\n",
    "    ii=0\n",
    "    for train_index, test_index in tqdm.tqdm(kf.split(X)):\n",
    "        print(f'Fold {ii}')\n",
    "        ii+=1\n",
    "        X_train, X_test = X[train_index], X[test_index]\n",
    "        y_train, y_test = y[train_index], y[test_index]\n",
    "\n",
    "        # Normalize \n",
    "        scaler = StandardScaler()\n",
    "        X_train_scaled = scaler.fit_transform(X_train)\n",
    "        X_test_scaled = scaler.transform(X_test)\n",
    "\n",
    "        # PCA\n",
    "        pca = PCA(n_components=50)\n",
    "        X_train_pca = pca.fit_transform(X_train_scaled)\n",
    "        X_test_pca = pca.transform(X_test_scaled)\n",
    "\n",
    "        if param_grid:\n",
    "            grid_search = GridSearchCV(model, param_grid, cv=3)\n",
    "            grid_search.fit(X_train_pca, y_train)\n",
    "            model = grid_search.best_estimator_\n",
    "        else:\n",
    "            model.fit(X_train_pca, y_train)\n",
    "\n",
    "        score = model.score(X_test_pca, y_test)\n",
    "        scores.append(score)\n",
    "\n",
    "    return scores\n",
    "\n",
    "# MLP\n",
    "mlp_param_grid = {\n",
    "    'hidden_layer_sizes': [(50, 50), (100, 50)],\n",
    "    'activation': ['relu', 'tanh'],\n",
    "    'solver': ['adam', 'sgd'],\n",
    "    'alpha': [.00001, 0.0001, 0.001, 0.01, .1],\n",
    "    'learning_rate': ['constant', 'adaptive'],\n",
    "    'max_iter':[200]\n",
    "}\n",
    "mlp_scores = train_and_evaluate(embs, labels, MLPClassifier(), mlp_param_grid)\n",
    "\n",
    "# XGBoost\n",
    "xgb_scores = train_and_evaluate(embs, labels, GradientBoostingClassifier())\n",
    "\n",
    "# SVC\n",
    "svc_param_grid = {\n",
    "    'C': [1e-2, 0.1, 1, 10, 100, 1000, 10000],\n",
    "    'gamma': [1e-4, 1e-3, 0.01, 0.1, 1]\n",
    "}\n",
    "svc_scores = train_and_evaluate(embs, labels, SVC(), svc_param_grid)\n",
    "\n",
    "# Plot the results\n",
    "plt.boxplot([mlp_scores, xgb_scores, svc_scores], labels=['MLP', 'XGBoost', 'SVC'])\n",
    "plt.ylabel('Validation Accuracy')\n",
    "plt.title('Model Comparison')\n",
    "plt.show()"
   ]
  },
  {
   "cell_type": "code",
   "execution_count": 23,
   "id": "b8f321d5-b16a-4855-8b3f-baedbbce4c8a",
   "metadata": {},
   "outputs": [
    {
     "data": {
      "text/plain": [
       "[0.6819671145579703,\n",
       " 0.670634562779932,\n",
       " 0.6708449815132113,\n",
       " 0.6708149216941715,\n",
       " 0.673811098418806]"
      ]
     },
     "execution_count": 23,
     "metadata": {},
     "output_type": "execute_result"
    }
   ],
   "source": [
    "mlp_scores"
   ]
  },
  {
   "cell_type": "code",
   "execution_count": null,
   "id": "024f3681-6488-4f3f-9359-b1c0c7ef9d2d",
   "metadata": {},
   "outputs": [],
   "source": [
    "np.mean([0.6819671145579703,\n",
    " 0.670634562779932,\n",
    " 0.6708449815132113,\n",
    " 0.6708149216941715,\n",
    " 0.673811098418806])"
   ]
  },
  {
   "cell_type": "code",
   "execution_count": 16,
   "id": "735d10ea-72f1-49f2-bb83-f99878a85c81",
   "metadata": {},
   "outputs": [
    {
     "data": {
      "text/plain": [
       "np.float64(0.6272379628799856)"
      ]
     },
     "execution_count": 16,
     "metadata": {},
     "output_type": "execute_result"
    }
   ],
   "source": [
    "# xgb_scores\n",
    "\n",
    "np.mean([0.6311660203805574,\n",
    " 0.6257853127724171,\n",
    " 0.6258454324104968,\n",
    " 0.6268374064388132,\n",
    " 0.6265556423976433])"
   ]
  },
  {
   "cell_type": "code",
   "execution_count": 21,
   "id": "f480c742-9923-4f3e-a59c-a2f6ac8c79a1",
   "metadata": {},
   "outputs": [
    {
     "data": {
      "text/plain": [
       "[0.6970270838969549,\n",
       " 0.6947725974689632,\n",
       " 0.6892716505846634,\n",
       " 0.6924579914028918,\n",
       " 0.6976492514880057]"
      ]
     },
     "execution_count": 21,
     "metadata": {},
     "output_type": "execute_result"
    }
   ],
   "source": [
    "svc_scores"
   ]
  },
  {
   "cell_type": "code",
   "execution_count": 17,
   "id": "5776ee8c-6f7e-461e-b650-969e38b1b193",
   "metadata": {},
   "outputs": [
    {
     "data": {
      "text/plain": [
       "np.float64(0.6942357149682958)"
      ]
     },
     "execution_count": 17,
     "metadata": {},
     "output_type": "execute_result"
    }
   ],
   "source": [
    "np.mean([0.6970270838969549,\n",
    " 0.6947725974689632,\n",
    " 0.6892716505846634,\n",
    " 0.6924579914028918,\n",
    " 0.6976492514880057])"
   ]
  },
  {
   "cell_type": "code",
   "execution_count": 19,
   "id": "1c0818f9-5561-47cd-a448-2489cb87fb6c",
   "metadata": {},
   "outputs": [
    {
     "data": {
      "text/plain": [
       "'CASSQEGLAGASQYF'"
      ]
     },
     "execution_count": 19,
     "metadata": {},
     "output_type": "execute_result"
    }
   ],
   "source": [
    "dftte.TCR[0]"
   ]
  },
  {
   "cell_type": "code",
   "execution_count": 11,
   "id": "4d9dad96-a0ca-4950-80bc-2ded51b2d767",
   "metadata": {},
   "outputs": [
    {
     "name": "stdout",
     "output_type": "stream",
     "text": [
      "==========================================================\n",
      "Fold 0\n"
     ]
    },
    {
     "name": "stderr",
     "output_type": "stream",
     "text": [
      "/home/prad/miniforge3/envs/pt251/lib/python3.10/site-packages/sklearn/base.py:474: FutureWarning: `BaseEstimator._validate_data` is deprecated in 1.6 and will be removed in 1.7. Use `sklearn.utils.validation.validate_data` instead. This function becomes public and is part of the scikit-learn developer API.\n",
      "  warnings.warn(\n",
      "/home/prad/miniforge3/envs/pt251/lib/python3.10/site-packages/sklearn/base.py:493: FutureWarning: `BaseEstimator._check_feature_names` is deprecated in 1.6 and will be removed in 1.7. Use `sklearn.utils.validation._check_feature_names` instead.\n",
      "  warnings.warn(\n",
      "/home/prad/miniforge3/envs/pt251/lib/python3.10/site-packages/sklearn/base.py:474: FutureWarning: `BaseEstimator._validate_data` is deprecated in 1.6 and will be removed in 1.7. Use `sklearn.utils.validation.validate_data` instead. This function becomes public and is part of the scikit-learn developer API.\n",
      "  warnings.warn(\n",
      "/home/prad/miniforge3/envs/pt251/lib/python3.10/site-packages/sklearn/base.py:493: FutureWarning: `BaseEstimator._check_feature_names` is deprecated in 1.6 and will be removed in 1.7. Use `sklearn.utils.validation._check_feature_names` instead.\n",
      "  warnings.warn(\n",
      "/home/prad/miniforge3/envs/pt251/lib/python3.10/site-packages/sklearn/base.py:474: FutureWarning: `BaseEstimator._validate_data` is deprecated in 1.6 and will be removed in 1.7. Use `sklearn.utils.validation.validate_data` instead. This function becomes public and is part of the scikit-learn developer API.\n",
      "  warnings.warn(\n",
      "/home/prad/miniforge3/envs/pt251/lib/python3.10/site-packages/sklearn/base.py:493: FutureWarning: `BaseEstimator._check_feature_names` is deprecated in 1.6 and will be removed in 1.7. Use `sklearn.utils.validation._check_feature_names` instead.\n",
      "  warnings.warn(\n",
      "/home/prad/miniforge3/envs/pt251/lib/python3.10/site-packages/sklearn/utils/deprecation.py:151: FutureWarning: 'force_all_finite' was renamed to 'ensure_all_finite' in 1.6 and will be removed in 1.8.\n",
      "  warnings.warn(\n",
      "/home/prad/miniforge3/envs/pt251/lib/python3.10/site-packages/sklearn/utils/deprecation.py:151: FutureWarning: 'force_all_finite' was renamed to 'ensure_all_finite' in 1.6 and will be removed in 1.8.\n",
      "  warnings.warn(\n",
      "/home/prad/miniforge3/envs/pt251/lib/python3.10/site-packages/sklearn/utils/deprecation.py:151: FutureWarning: 'force_all_finite' was renamed to 'ensure_all_finite' in 1.6 and will be removed in 1.8.\n",
      "  warnings.warn(\n",
      "/home/prad/miniforge3/envs/pt251/lib/python3.10/site-packages/sklearn/base.py:493: FutureWarning: `BaseEstimator._check_feature_names` is deprecated in 1.6 and will be removed in 1.7. Use `sklearn.utils.validation._check_feature_names` instead.\n",
      "  warnings.warn(\n",
      "/home/prad/miniforge3/envs/pt251/lib/python3.10/site-packages/sklearn/utils/deprecation.py:151: FutureWarning: 'force_all_finite' was renamed to 'ensure_all_finite' in 1.6 and will be removed in 1.8.\n",
      "  warnings.warn(\n"
     ]
    },
    {
     "name": "stdout",
     "output_type": "stream",
     "text": [
      "==========================================================\n",
      "Fold 1\n"
     ]
    },
    {
     "name": "stderr",
     "output_type": "stream",
     "text": [
      "/home/prad/miniforge3/envs/pt251/lib/python3.10/site-packages/sklearn/base.py:474: FutureWarning: `BaseEstimator._validate_data` is deprecated in 1.6 and will be removed in 1.7. Use `sklearn.utils.validation.validate_data` instead. This function becomes public and is part of the scikit-learn developer API.\n",
      "  warnings.warn(\n",
      "/home/prad/miniforge3/envs/pt251/lib/python3.10/site-packages/sklearn/base.py:493: FutureWarning: `BaseEstimator._check_feature_names` is deprecated in 1.6 and will be removed in 1.7. Use `sklearn.utils.validation._check_feature_names` instead.\n",
      "  warnings.warn(\n",
      "/home/prad/miniforge3/envs/pt251/lib/python3.10/site-packages/sklearn/base.py:474: FutureWarning: `BaseEstimator._validate_data` is deprecated in 1.6 and will be removed in 1.7. Use `sklearn.utils.validation.validate_data` instead. This function becomes public and is part of the scikit-learn developer API.\n",
      "  warnings.warn(\n",
      "/home/prad/miniforge3/envs/pt251/lib/python3.10/site-packages/sklearn/base.py:493: FutureWarning: `BaseEstimator._check_feature_names` is deprecated in 1.6 and will be removed in 1.7. Use `sklearn.utils.validation._check_feature_names` instead.\n",
      "  warnings.warn(\n",
      "/home/prad/miniforge3/envs/pt251/lib/python3.10/site-packages/sklearn/base.py:474: FutureWarning: `BaseEstimator._validate_data` is deprecated in 1.6 and will be removed in 1.7. Use `sklearn.utils.validation.validate_data` instead. This function becomes public and is part of the scikit-learn developer API.\n",
      "  warnings.warn(\n",
      "/home/prad/miniforge3/envs/pt251/lib/python3.10/site-packages/sklearn/base.py:493: FutureWarning: `BaseEstimator._check_feature_names` is deprecated in 1.6 and will be removed in 1.7. Use `sklearn.utils.validation._check_feature_names` instead.\n",
      "  warnings.warn(\n",
      "/home/prad/miniforge3/envs/pt251/lib/python3.10/site-packages/sklearn/utils/deprecation.py:151: FutureWarning: 'force_all_finite' was renamed to 'ensure_all_finite' in 1.6 and will be removed in 1.8.\n",
      "  warnings.warn(\n",
      "/home/prad/miniforge3/envs/pt251/lib/python3.10/site-packages/sklearn/utils/deprecation.py:151: FutureWarning: 'force_all_finite' was renamed to 'ensure_all_finite' in 1.6 and will be removed in 1.8.\n",
      "  warnings.warn(\n",
      "/home/prad/miniforge3/envs/pt251/lib/python3.10/site-packages/sklearn/utils/deprecation.py:151: FutureWarning: 'force_all_finite' was renamed to 'ensure_all_finite' in 1.6 and will be removed in 1.8.\n",
      "  warnings.warn(\n",
      "/home/prad/miniforge3/envs/pt251/lib/python3.10/site-packages/sklearn/base.py:493: FutureWarning: `BaseEstimator._check_feature_names` is deprecated in 1.6 and will be removed in 1.7. Use `sklearn.utils.validation._check_feature_names` instead.\n",
      "  warnings.warn(\n",
      "/home/prad/miniforge3/envs/pt251/lib/python3.10/site-packages/sklearn/utils/deprecation.py:151: FutureWarning: 'force_all_finite' was renamed to 'ensure_all_finite' in 1.6 and will be removed in 1.8.\n",
      "  warnings.warn(\n"
     ]
    },
    {
     "name": "stdout",
     "output_type": "stream",
     "text": [
      "==========================================================\n",
      "Fold 2\n"
     ]
    },
    {
     "name": "stderr",
     "output_type": "stream",
     "text": [
      "/home/prad/miniforge3/envs/pt251/lib/python3.10/site-packages/sklearn/base.py:474: FutureWarning: `BaseEstimator._validate_data` is deprecated in 1.6 and will be removed in 1.7. Use `sklearn.utils.validation.validate_data` instead. This function becomes public and is part of the scikit-learn developer API.\n",
      "  warnings.warn(\n",
      "/home/prad/miniforge3/envs/pt251/lib/python3.10/site-packages/sklearn/base.py:493: FutureWarning: `BaseEstimator._check_feature_names` is deprecated in 1.6 and will be removed in 1.7. Use `sklearn.utils.validation._check_feature_names` instead.\n",
      "  warnings.warn(\n",
      "/home/prad/miniforge3/envs/pt251/lib/python3.10/site-packages/sklearn/base.py:474: FutureWarning: `BaseEstimator._validate_data` is deprecated in 1.6 and will be removed in 1.7. Use `sklearn.utils.validation.validate_data` instead. This function becomes public and is part of the scikit-learn developer API.\n",
      "  warnings.warn(\n",
      "/home/prad/miniforge3/envs/pt251/lib/python3.10/site-packages/sklearn/base.py:493: FutureWarning: `BaseEstimator._check_feature_names` is deprecated in 1.6 and will be removed in 1.7. Use `sklearn.utils.validation._check_feature_names` instead.\n",
      "  warnings.warn(\n",
      "/home/prad/miniforge3/envs/pt251/lib/python3.10/site-packages/sklearn/base.py:474: FutureWarning: `BaseEstimator._validate_data` is deprecated in 1.6 and will be removed in 1.7. Use `sklearn.utils.validation.validate_data` instead. This function becomes public and is part of the scikit-learn developer API.\n",
      "  warnings.warn(\n",
      "/home/prad/miniforge3/envs/pt251/lib/python3.10/site-packages/sklearn/base.py:493: FutureWarning: `BaseEstimator._check_feature_names` is deprecated in 1.6 and will be removed in 1.7. Use `sklearn.utils.validation._check_feature_names` instead.\n",
      "  warnings.warn(\n",
      "/home/prad/miniforge3/envs/pt251/lib/python3.10/site-packages/sklearn/utils/deprecation.py:151: FutureWarning: 'force_all_finite' was renamed to 'ensure_all_finite' in 1.6 and will be removed in 1.8.\n",
      "  warnings.warn(\n",
      "/home/prad/miniforge3/envs/pt251/lib/python3.10/site-packages/sklearn/utils/deprecation.py:151: FutureWarning: 'force_all_finite' was renamed to 'ensure_all_finite' in 1.6 and will be removed in 1.8.\n",
      "  warnings.warn(\n",
      "/home/prad/miniforge3/envs/pt251/lib/python3.10/site-packages/sklearn/utils/deprecation.py:151: FutureWarning: 'force_all_finite' was renamed to 'ensure_all_finite' in 1.6 and will be removed in 1.8.\n",
      "  warnings.warn(\n",
      "/home/prad/miniforge3/envs/pt251/lib/python3.10/site-packages/sklearn/base.py:493: FutureWarning: `BaseEstimator._check_feature_names` is deprecated in 1.6 and will be removed in 1.7. Use `sklearn.utils.validation._check_feature_names` instead.\n",
      "  warnings.warn(\n",
      "/home/prad/miniforge3/envs/pt251/lib/python3.10/site-packages/sklearn/utils/deprecation.py:151: FutureWarning: 'force_all_finite' was renamed to 'ensure_all_finite' in 1.6 and will be removed in 1.8.\n",
      "  warnings.warn(\n"
     ]
    },
    {
     "name": "stdout",
     "output_type": "stream",
     "text": [
      "==========================================================\n",
      "Fold 3\n"
     ]
    },
    {
     "name": "stderr",
     "output_type": "stream",
     "text": [
      "/home/prad/miniforge3/envs/pt251/lib/python3.10/site-packages/sklearn/base.py:474: FutureWarning: `BaseEstimator._validate_data` is deprecated in 1.6 and will be removed in 1.7. Use `sklearn.utils.validation.validate_data` instead. This function becomes public and is part of the scikit-learn developer API.\n",
      "  warnings.warn(\n",
      "/home/prad/miniforge3/envs/pt251/lib/python3.10/site-packages/sklearn/base.py:493: FutureWarning: `BaseEstimator._check_feature_names` is deprecated in 1.6 and will be removed in 1.7. Use `sklearn.utils.validation._check_feature_names` instead.\n",
      "  warnings.warn(\n",
      "/home/prad/miniforge3/envs/pt251/lib/python3.10/site-packages/sklearn/base.py:474: FutureWarning: `BaseEstimator._validate_data` is deprecated in 1.6 and will be removed in 1.7. Use `sklearn.utils.validation.validate_data` instead. This function becomes public and is part of the scikit-learn developer API.\n",
      "  warnings.warn(\n",
      "/home/prad/miniforge3/envs/pt251/lib/python3.10/site-packages/sklearn/base.py:493: FutureWarning: `BaseEstimator._check_feature_names` is deprecated in 1.6 and will be removed in 1.7. Use `sklearn.utils.validation._check_feature_names` instead.\n",
      "  warnings.warn(\n",
      "/home/prad/miniforge3/envs/pt251/lib/python3.10/site-packages/sklearn/base.py:474: FutureWarning: `BaseEstimator._validate_data` is deprecated in 1.6 and will be removed in 1.7. Use `sklearn.utils.validation.validate_data` instead. This function becomes public and is part of the scikit-learn developer API.\n",
      "  warnings.warn(\n",
      "/home/prad/miniforge3/envs/pt251/lib/python3.10/site-packages/sklearn/base.py:493: FutureWarning: `BaseEstimator._check_feature_names` is deprecated in 1.6 and will be removed in 1.7. Use `sklearn.utils.validation._check_feature_names` instead.\n",
      "  warnings.warn(\n",
      "/home/prad/miniforge3/envs/pt251/lib/python3.10/site-packages/sklearn/utils/deprecation.py:151: FutureWarning: 'force_all_finite' was renamed to 'ensure_all_finite' in 1.6 and will be removed in 1.8.\n",
      "  warnings.warn(\n",
      "/home/prad/miniforge3/envs/pt251/lib/python3.10/site-packages/sklearn/utils/deprecation.py:151: FutureWarning: 'force_all_finite' was renamed to 'ensure_all_finite' in 1.6 and will be removed in 1.8.\n",
      "  warnings.warn(\n",
      "/home/prad/miniforge3/envs/pt251/lib/python3.10/site-packages/sklearn/utils/deprecation.py:151: FutureWarning: 'force_all_finite' was renamed to 'ensure_all_finite' in 1.6 and will be removed in 1.8.\n",
      "  warnings.warn(\n",
      "/home/prad/miniforge3/envs/pt251/lib/python3.10/site-packages/sklearn/base.py:493: FutureWarning: `BaseEstimator._check_feature_names` is deprecated in 1.6 and will be removed in 1.7. Use `sklearn.utils.validation._check_feature_names` instead.\n",
      "  warnings.warn(\n",
      "/home/prad/miniforge3/envs/pt251/lib/python3.10/site-packages/sklearn/utils/deprecation.py:151: FutureWarning: 'force_all_finite' was renamed to 'ensure_all_finite' in 1.6 and will be removed in 1.8.\n",
      "  warnings.warn(\n"
     ]
    },
    {
     "name": "stdout",
     "output_type": "stream",
     "text": [
      "==========================================================\n",
      "Fold 4\n"
     ]
    },
    {
     "name": "stderr",
     "output_type": "stream",
     "text": [
      "/home/prad/miniforge3/envs/pt251/lib/python3.10/site-packages/sklearn/base.py:474: FutureWarning: `BaseEstimator._validate_data` is deprecated in 1.6 and will be removed in 1.7. Use `sklearn.utils.validation.validate_data` instead. This function becomes public and is part of the scikit-learn developer API.\n",
      "  warnings.warn(\n",
      "/home/prad/miniforge3/envs/pt251/lib/python3.10/site-packages/sklearn/base.py:493: FutureWarning: `BaseEstimator._check_feature_names` is deprecated in 1.6 and will be removed in 1.7. Use `sklearn.utils.validation._check_feature_names` instead.\n",
      "  warnings.warn(\n",
      "/home/prad/miniforge3/envs/pt251/lib/python3.10/site-packages/sklearn/base.py:474: FutureWarning: `BaseEstimator._validate_data` is deprecated in 1.6 and will be removed in 1.7. Use `sklearn.utils.validation.validate_data` instead. This function becomes public and is part of the scikit-learn developer API.\n",
      "  warnings.warn(\n",
      "/home/prad/miniforge3/envs/pt251/lib/python3.10/site-packages/sklearn/base.py:493: FutureWarning: `BaseEstimator._check_feature_names` is deprecated in 1.6 and will be removed in 1.7. Use `sklearn.utils.validation._check_feature_names` instead.\n",
      "  warnings.warn(\n",
      "/home/prad/miniforge3/envs/pt251/lib/python3.10/site-packages/sklearn/base.py:474: FutureWarning: `BaseEstimator._validate_data` is deprecated in 1.6 and will be removed in 1.7. Use `sklearn.utils.validation.validate_data` instead. This function becomes public and is part of the scikit-learn developer API.\n",
      "  warnings.warn(\n",
      "/home/prad/miniforge3/envs/pt251/lib/python3.10/site-packages/sklearn/base.py:493: FutureWarning: `BaseEstimator._check_feature_names` is deprecated in 1.6 and will be removed in 1.7. Use `sklearn.utils.validation._check_feature_names` instead.\n",
      "  warnings.warn(\n",
      "/home/prad/miniforge3/envs/pt251/lib/python3.10/site-packages/sklearn/utils/deprecation.py:151: FutureWarning: 'force_all_finite' was renamed to 'ensure_all_finite' in 1.6 and will be removed in 1.8.\n",
      "  warnings.warn(\n",
      "/home/prad/miniforge3/envs/pt251/lib/python3.10/site-packages/sklearn/utils/deprecation.py:151: FutureWarning: 'force_all_finite' was renamed to 'ensure_all_finite' in 1.6 and will be removed in 1.8.\n",
      "  warnings.warn(\n",
      "/home/prad/miniforge3/envs/pt251/lib/python3.10/site-packages/sklearn/utils/deprecation.py:151: FutureWarning: 'force_all_finite' was renamed to 'ensure_all_finite' in 1.6 and will be removed in 1.8.\n",
      "  warnings.warn(\n"
     ]
    },
    {
     "name": "stdout",
     "output_type": "stream",
     "text": [
      "5-fold CV Accuracy Scores: [0.61956293023116, 0.6173084438031683, 0.6157152733940542, 0.6174286830793279, 0.6172969398184333]\n"
     ]
    },
    {
     "name": "stderr",
     "output_type": "stream",
     "text": [
      "/home/prad/miniforge3/envs/pt251/lib/python3.10/site-packages/sklearn/base.py:493: FutureWarning: `BaseEstimator._check_feature_names` is deprecated in 1.6 and will be removed in 1.7. Use `sklearn.utils.validation._check_feature_names` instead.\n",
      "  warnings.warn(\n",
      "/home/prad/miniforge3/envs/pt251/lib/python3.10/site-packages/sklearn/utils/deprecation.py:151: FutureWarning: 'force_all_finite' was renamed to 'ensure_all_finite' in 1.6 and will be removed in 1.8.\n",
      "  warnings.warn(\n"
     ]
    }
   ],
   "source": [
    "import numpy as np\n",
    "from sklearn.model_selection import KFold\n",
    "from sklearn.preprocessing import StandardScaler\n",
    "from sklearn.decomposition import PCA\n",
    "from sklearn.svm import SVC\n",
    "from sklearn.metrics import accuracy_score\n",
    "\n",
    "# Example data\n",
    "# Replace 'embs' and 'labels' with your actual data\n",
    "\n",
    "# Define 5-fold cross-validation\n",
    "kf = KFold(n_splits=5, shuffle=True, random_state=42)\n",
    "\n",
    "# Prepare to store accuracy scores\n",
    "accuracy_scores = []\n",
    "\n",
    "# Iterate through each fold\n",
    "for ii, (train_index, test_index) in enumerate(kf.split(embs)):\n",
    "    print('==========================================================')\n",
    "    print(f'Fold {ii}')\n",
    "    X_train, X_test = embs[train_index], embs[test_index]\n",
    "    y_train, y_test = labels[train_index], labels[test_index]\n",
    "\n",
    "    scaler = StandardScaler()\n",
    "    X_train_scaled = scaler.fit_transform(X_train)\n",
    "    X_test_scaled = scaler.transform(X_test)\n",
    "\n",
    "    pca = PCA(n_components=50)\n",
    "    X_train_pca = pca.fit_transform(X_train_scaled)\n",
    "    X_test_pca = pca.transform(X_test_scaled)\n",
    "\n",
    "    svm = SVC(kernel='linear', random_state=42)\n",
    "    svm.fit(X_train_pca, y_train)\n",
    "\n",
    "    y_pred = svm.predict(X_test_pca)\n",
    "    accuracy = accuracy_score(y_test, y_pred)\n",
    "    accuracy_scores.append(accuracy)\n",
    "\n",
    "print(\"5-fold CV Accuracy Scores:\", accuracy_scores)"
   ]
  },
  {
   "cell_type": "code",
   "execution_count": null,
   "id": "ea55542f-99cf-4e5c-9f14-6a1772b5dfa8",
   "metadata": {},
   "outputs": [],
   "source": [
    "dct_te = pkl.load(open('./embsbert/epi_test_dct.pkl', 'rb'))\n",
    "embs_te = dct_te['joint_full']\n",
    "labels_te = dfete"
   ]
  },
  {
   "cell_type": "code",
   "execution_count": null,
   "id": "93c2ce17-3b74-428e-96c2-705a8e34384b",
   "metadata": {},
   "outputs": [],
   "source": []
  },
  {
   "cell_type": "code",
   "execution_count": null,
   "id": "2bca8cf7-1b28-4f14-9d33-24dfacf96def",
   "metadata": {},
   "outputs": [],
   "source": []
  },
  {
   "cell_type": "code",
   "execution_count": null,
   "id": "0d0fb9b9-4fea-4712-a1c3-393d10815f45",
   "metadata": {},
   "outputs": [],
   "source": []
  },
  {
   "cell_type": "code",
   "execution_count": null,
   "id": "a7ba1203-d0f1-4e53-a93b-5585c129d3ef",
   "metadata": {},
   "outputs": [],
   "source": []
  },
  {
   "cell_type": "code",
   "execution_count": null,
   "id": "8055d52e-4bd1-493f-a566-a8925df959af",
   "metadata": {},
   "outputs": [],
   "source": []
  },
  {
   "cell_type": "code",
   "execution_count": null,
   "id": "ddc865c2-a59d-44c5-a0da-8d47cb8cece4",
   "metadata": {},
   "outputs": [],
   "source": []
  },
  {
   "cell_type": "code",
   "execution_count": null,
   "id": "672b00b1-70a7-4457-9225-eefefdcd67be",
   "metadata": {},
   "outputs": [],
   "source": []
  },
  {
   "cell_type": "code",
   "execution_count": null,
   "id": "b0cdb8e1-d04b-4840-9524-fca142405975",
   "metadata": {},
   "outputs": [],
   "source": []
  },
  {
   "cell_type": "code",
   "execution_count": null,
   "id": "94e4b690-3b75-40aa-9b87-964818847b5f",
   "metadata": {},
   "outputs": [],
   "source": []
  },
  {
   "cell_type": "code",
   "execution_count": null,
   "id": "81fb729f-454e-42ce-9851-ae9b957f487f",
   "metadata": {},
   "outputs": [],
   "source": []
  },
  {
   "cell_type": "code",
   "execution_count": 45,
   "id": "a99d1fac-8cb6-4728-89eb-61ec6ea7ac44",
   "metadata": {},
   "outputs": [
    {
     "name": "stderr",
     "output_type": "stream",
     "text": [
      "/home/prad/miniforge3/envs/pt251/lib/python3.10/site-packages/sklearn/base.py:474: FutureWarning: `BaseEstimator._validate_data` is deprecated in 1.6 and will be removed in 1.7. Use `sklearn.utils.validation.validate_data` instead. This function becomes public and is part of the scikit-learn developer API.\n",
      "  warnings.warn(\n",
      "/home/prad/miniforge3/envs/pt251/lib/python3.10/site-packages/sklearn/base.py:493: FutureWarning: `BaseEstimator._check_feature_names` is deprecated in 1.6 and will be removed in 1.7. Use `sklearn.utils.validation._check_feature_names` instead.\n",
      "  warnings.warn(\n",
      "/home/prad/miniforge3/envs/pt251/lib/python3.10/site-packages/sklearn/base.py:474: FutureWarning: `BaseEstimator._validate_data` is deprecated in 1.6 and will be removed in 1.7. Use `sklearn.utils.validation.validate_data` instead. This function becomes public and is part of the scikit-learn developer API.\n",
      "  warnings.warn(\n",
      "/home/prad/miniforge3/envs/pt251/lib/python3.10/site-packages/sklearn/base.py:493: FutureWarning: `BaseEstimator._check_feature_names` is deprecated in 1.6 and will be removed in 1.7. Use `sklearn.utils.validation._check_feature_names` instead.\n",
      "  warnings.warn(\n",
      "/home/prad/miniforge3/envs/pt251/lib/python3.10/site-packages/sklearn/utils/deprecation.py:151: FutureWarning: 'force_all_finite' was renamed to 'ensure_all_finite' in 1.6 and will be removed in 1.8.\n",
      "  warnings.warn(\n",
      "/home/prad/miniforge3/envs/pt251/lib/python3.10/site-packages/sklearn/utils/deprecation.py:151: FutureWarning: 'force_all_finite' was renamed to 'ensure_all_finite' in 1.6 and will be removed in 1.8.\n",
      "  warnings.warn(\n",
      "/home/prad/miniforge3/envs/pt251/lib/python3.10/site-packages/sklearn/base.py:493: FutureWarning: `BaseEstimator._check_feature_names` is deprecated in 1.6 and will be removed in 1.7. Use `sklearn.utils.validation._check_feature_names` instead.\n",
      "  warnings.warn(\n",
      "/home/prad/miniforge3/envs/pt251/lib/python3.10/site-packages/sklearn/base.py:474: FutureWarning: `BaseEstimator._validate_data` is deprecated in 1.6 and will be removed in 1.7. Use `sklearn.utils.validation.validate_data` instead. This function becomes public and is part of the scikit-learn developer API.\n",
      "  warnings.warn(\n",
      "/home/prad/miniforge3/envs/pt251/lib/python3.10/site-packages/sklearn/base.py:493: FutureWarning: `BaseEstimator._check_feature_names` is deprecated in 1.6 and will be removed in 1.7. Use `sklearn.utils.validation._check_feature_names` instead.\n",
      "  warnings.warn(\n",
      "/home/prad/miniforge3/envs/pt251/lib/python3.10/site-packages/sklearn/utils/deprecation.py:151: FutureWarning: 'force_all_finite' was renamed to 'ensure_all_finite' in 1.6 and will be removed in 1.8.\n",
      "  warnings.warn(\n"
     ]
    },
    {
     "name": "stdout",
     "output_type": "stream",
     "text": [
      "SVR Metrics:\n",
      "Accuracy: 0.6809\n",
      "ROC AUC: 0.6809\n",
      "F1 Score: 0.6624\n"
     ]
    },
    {
     "name": "stderr",
     "output_type": "stream",
     "text": [
      "/home/prad/miniforge3/envs/pt251/lib/python3.10/site-packages/sklearn/base.py:474: FutureWarning: `BaseEstimator._validate_data` is deprecated in 1.6 and will be removed in 1.7. Use `sklearn.utils.validation.validate_data` instead. This function becomes public and is part of the scikit-learn developer API.\n",
      "  warnings.warn(\n",
      "/home/prad/miniforge3/envs/pt251/lib/python3.10/site-packages/sklearn/base.py:493: FutureWarning: `BaseEstimator._check_feature_names` is deprecated in 1.6 and will be removed in 1.7. Use `sklearn.utils.validation._check_feature_names` instead.\n",
      "  warnings.warn(\n",
      "/home/prad/miniforge3/envs/pt251/lib/python3.10/site-packages/sklearn/base.py:474: FutureWarning: `BaseEstimator._validate_data` is deprecated in 1.6 and will be removed in 1.7. Use `sklearn.utils.validation.validate_data` instead. This function becomes public and is part of the scikit-learn developer API.\n",
      "  warnings.warn(\n"
     ]
    },
    {
     "name": "stdout",
     "output_type": "stream",
     "text": [
      "Logistic Regression Metrics:\n",
      "Accuracy: 0.6283\n",
      "ROC AUC: 0.6283\n",
      "F1 Score: 0.6269\n"
     ]
    },
    {
     "name": "stderr",
     "output_type": "stream",
     "text": [
      "/home/prad/miniforge3/envs/pt251/lib/python3.10/site-packages/sklearn/base.py:493: FutureWarning: `BaseEstimator._check_feature_names` is deprecated in 1.6 and will be removed in 1.7. Use `sklearn.utils.validation._check_feature_names` instead.\n",
      "  warnings.warn(\n",
      "/home/prad/miniforge3/envs/pt251/lib/python3.10/site-packages/sklearn/base.py:474: FutureWarning: `BaseEstimator._validate_data` is deprecated in 1.6 and will be removed in 1.7. Use `sklearn.utils.validation.validate_data` instead. This function becomes public and is part of the scikit-learn developer API.\n",
      "  warnings.warn(\n",
      "/home/prad/miniforge3/envs/pt251/lib/python3.10/site-packages/sklearn/base.py:493: FutureWarning: `BaseEstimator._check_feature_names` is deprecated in 1.6 and will be removed in 1.7. Use `sklearn.utils.validation._check_feature_names` instead.\n",
      "  warnings.warn(\n"
     ]
    }
   ],
   "source": [
    "import numpy as np\n",
    "from sklearn.model_selection import train_test_split\n",
    "from sklearn.preprocessing import StandardScaler\n",
    "from sklearn.decomposition import PCA\n",
    "from sklearn.svm import SVR\n",
    "from sklearn.linear_model import LogisticRegression\n",
    "from sklearn.metrics import accuracy_score, roc_auc_score, f1_score\n",
    "from sklearn.pipeline import Pipeline\n",
    "from sklearn.multioutput import MultiOutputClassifier\n",
    "\n",
    "# Split data into train and test\n",
    "X_train, X_test, y_train, y_test = train_test_split(embs, labels, test_size=0.2, random_state=42)\n",
    "\n",
    "# Normalize -> PCA -> SVR Pipeline\n",
    "svr_pipeline = Pipeline([\n",
    "    ('scaler', StandardScaler()),\n",
    "    ('pca', PCA(n_components=50)),\n",
    "    ('svr', SVR(kernel='rbf'))\n",
    "])\n",
    "\n",
    "# Fit and predict\n",
    "svr_pipeline.fit(X_train, y_train)\n",
    "y_pred_svr = svr_pipeline.predict(X_test)\n",
    "\n",
    "# Since SVR is a regressor, convert predictions to binary labels for classification metrics\n",
    "y_pred_svr_binary = (y_pred_svr > 0.5).astype(int)\n",
    "\n",
    "# Metrics for SVR\n",
    "accuracy_svr = accuracy_score(y_test, y_pred_svr_binary)\n",
    "rocauc_svr = roc_auc_score(y_test, y_pred_svr_binary)\n",
    "f1_svr = f1_score(y_test, y_pred_svr_binary)\n",
    "\n",
    "print(\"SVR Metrics:\")\n",
    "print(f\"Accuracy: {accuracy_svr:.4f}\")\n",
    "print(f\"ROC AUC: {rocauc_svr:.4f}\")\n",
    "print(f\"F1 Score: {f1_svr:.4f}\")\n",
    "\n",
    "# Normalize -> PCA -> Logistic Regression Pipeline\n",
    "logreg_pipeline = Pipeline([\n",
    "    ('scaler', StandardScaler()),\n",
    "    ('pca', PCA(n_components=50)),\n",
    "    ('logreg', LogisticRegression(solver='liblinear', random_state=42))\n",
    "])\n",
    "\n",
    "# Fit and predict\n",
    "logreg_pipeline.fit(X_train, y_train)\n",
    "y_pred_logreg = logreg_pipeline.predict(X_test)\n",
    "\n",
    "# Metrics for Logistic Regression\n",
    "accuracy_logreg = accuracy_score(y_test, y_pred_logreg)\n",
    "rocauc_logreg = roc_auc_score(y_test, y_pred_logreg)\n",
    "f1_logreg = f1_score(y_test, y_pred_logreg)\n",
    "\n",
    "print(\"Logistic Regression Metrics:\")\n",
    "print(f\"Accuracy: {accuracy_logreg:.4f}\")\n",
    "print(f\"ROC AUC: {rocauc_logreg:.4f}\")\n",
    "print(f\"F1 Score: {f1_logreg:.4f}\")"
   ]
  },
  {
   "cell_type": "code",
   "execution_count": null,
   "id": "9e7b30e9-6c1f-458a-a6eb-ba077b2405ba",
   "metadata": {},
   "outputs": [],
   "source": []
  },
  {
   "cell_type": "code",
   "execution_count": 8,
   "id": "e310259d-7d4a-4cc6-a0bf-68316e3cbe4f",
   "metadata": {},
   "outputs": [
    {
     "data": {
      "text/plain": [
       "<Axes: >"
      ]
     },
     "execution_count": 8,
     "metadata": {},
     "output_type": "execute_result"
    },
    {
     "data": {
      "image/png": "[encoded data removed]",
      "text/plain": [
       "<Figure size 640x480 with 1 Axes>"
      ]
     },
     "metadata": {},
     "output_type": "display_data"
    }
   ],
   "source": [
    "dfttr.Epitope.str.len().hist(log=True)"
   ]
  },
  {
   "cell_type": "code",
   "execution_count": 9,
   "id": "c31d40e9-8fdb-472b-9f19-e573eb82db1e",
   "metadata": {},
   "outputs": [],
   "source": [
    "lenofseq = max(dfho_tcr.TCR.str.len())+max(dfho_tcr.Epitope.str.len())+3\n",
    "ml = lenofseq*2-1 "
   ]
  },
  {
   "cell_type": "code",
   "execution_count": 10,
   "id": "998d4a46-2a6d-4040-a352-0f0c90b6833f",
   "metadata": {},
   "outputs": [
    {
     "ename": "NameError",
     "evalue": "name 'joint' is not defined",
     "output_type": "error",
     "traceback": [
      "\u001b[0;31m---------------------------------------------------------------------------\u001b[0m",
      "\u001b[0;31mNameError\u001b[0m                                 Traceback (most recent call last)",
      "Cell \u001b[0;32mIn[10], line 1\u001b[0m\n\u001b[0;32m----> 1\u001b[0m np\u001b[38;5;241m.\u001b[39margwhere(np\u001b[38;5;241m.\u001b[39marray([\u001b[38;5;28mlen\u001b[39m(j) \u001b[38;5;28;01mfor\u001b[39;00m j \u001b[38;5;129;01min\u001b[39;00m \u001b[43mjoint\u001b[49m])\u001b[38;5;241m==\u001b[39m\u001b[38;5;241m67\u001b[39m)\n",
      "\u001b[0;31mNameError\u001b[0m: name 'joint' is not defined"
     ]
    }
   ],
   "source": [
    "np.argwhere(np.array([len(j) for j in joint])==67)"
   ]
  },
  {
   "cell_type": "code",
   "execution_count": 90,
   "id": "289811dd-4cd1-439e-8145-1d57e9930a83",
   "metadata": {},
   "outputs": [
    {
     "data": {
      "text/plain": [
       "tensor([1, 1, 1, 1, 1, 1, 1, 1, 1, 1, 1, 1, 1, 1, 1, 1, 1, 1, 1, 1, 1, 1, 1, 1,\n",
       "        1, 1, 1, 1, 1, 1, 1, 1, 1, 1, 1, 1, 0, 0, 0, 0, 0, 0, 0, 0, 0, 0, 0, 0,\n",
       "        0, 0, 0, 0, 0, 0, 0, 0, 0, 0, 0, 0, 0, 0, 0, 0, 0, 0, 0])"
      ]
     },
     "execution_count": 90,
     "metadata": {},
     "output_type": "execute_result"
    }
   ],
   "source": [
    "tokenizer(joint, return_tensors='pt', padding='max_length', max_length=67)['attention_mask'][110]"
   ]
  },
  {
   "cell_type": "code",
   "execution_count": 89,
   "id": "9ca6bb95-5b94-4d3e-a3d3-04bc9ae78f91",
   "metadata": {},
   "outputs": [
    {
     "data": {
      "text/plain": [
       "tensor([[25, 25,  9, 13, 13,  5,  6,  5, 13, 14, 16, 11,  2,  2, 11,  5,  8,  4,\n",
       "          6,  8, 19, 18, 24,  2, 13, 18,  5, 12,  4, 14, 15, 12, 17, 18, 24, 24]])"
      ]
     },
     "execution_count": 89,
     "metadata": {},
     "output_type": "execute_result"
    }
   ],
   "source": [
    "\n",
    "tokenizer(joint[110], return_tensors='pt')['input_ids']"
   ]
  },
  {
   "cell_type": "code",
   "execution_count": 114,
   "id": "f6b7f304-6027-48a6-88a5-f939cb658d23",
   "metadata": {},
   "outputs": [
    {
     "data": {
      "text/plain": [
       "'* C A A S T S A V L G K K G S Q E T Q Y F K A F S P E V I P M F |'"
      ]
     },
     "execution_count": 114,
     "metadata": {},
     "output_type": "execute_result"
    }
   ],
   "source": [
    "joint[110].replace(' |', '')+' |'"
   ]
  },
  {
   "cell_type": "code",
   "execution_count": 117,
   "id": "d84b0341-21a2-4a24-9980-c59a67819907",
   "metadata": {},
   "outputs": [
    {
     "data": {
      "text/plain": [
       "tensor([[25, 25,  9, 13, 13,  5,  6,  5, 13, 14, 16, 11,  2,  2, 11,  5,  8,  4,\n",
       "          6,  8, 19, 18,  2, 13, 18,  5, 12,  4, 14, 15, 12, 17, 18, 24, 21, 21,\n",
       "         21, 21, 21, 21, 21, 21, 21, 21, 21, 21, 21, 21, 21, 21, 21, 21, 21, 21,\n",
       "         21, 21, 21, 21, 21, 21, 21, 21, 21, 21, 21, 21, 21]])"
      ]
     },
     "execution_count": 117,
     "metadata": {},
     "output_type": "execute_result"
    }
   ],
   "source": [
    "tokenizer(joint[110].replace(' |', ''), return_tensors='pt', max_length=67, padding='max_length')['input_ids']"
   ]
  },
  {
   "cell_type": "code",
   "execution_count": 119,
   "id": "44355006-fb7f-4e10-b33e-29eb88352536",
   "metadata": {},
   "outputs": [
    {
     "data": {
      "text/plain": [
       "tensor([[1, 1, 1, 1, 1, 1, 1, 1, 1, 1, 1, 1, 1, 1, 1, 1, 1, 1, 1, 1, 1, 1, 1, 1,\n",
       "         1, 1, 1, 1, 1, 1, 1, 1, 1, 1, 0, 0, 0, 0, 0, 0, 0, 0, 0, 0, 0, 0, 0, 0,\n",
       "         0, 0, 0, 0, 0, 0, 0, 0, 0, 0, 0, 0, 0, 0, 0, 0, 0, 0, 0]])"
      ]
     },
     "execution_count": 119,
     "metadata": {},
     "output_type": "execute_result"
    }
   ],
   "source": [
    "tokenizer(joint[110].replace(' |', ''), return_tensors='pt', max_length=67, padding='max_length')['attention_mask']"
   ]
  },
  {
   "cell_type": "code",
   "execution_count": 142,
   "id": "4df550a6-3456-4f5a-90ef-abf2333cfba2",
   "metadata": {},
   "outputs": [
    {
     "data": {
      "text/plain": [
       "tensor([[25,  9, 13,  5,  5, 16, 11, 16,  3,  4,  6,  8, 19, 18,  2, 13, 18,  5,\n",
       "         12,  4, 14, 15, 12, 17, 18, 24, 21, 21, 21, 21, 21, 21, 21, 21, 21, 21,\n",
       "         21, 21, 21, 21, 21, 21, 21, 21, 21, 21, 21, 21, 21, 21, 21, 21, 21, 21,\n",
       "         21, 21, 21, 21, 21, 21, 21, 21, 21, 21, 21, 21, 21]])"
      ]
     },
     "execution_count": 142,
     "metadata": {},
     "output_type": "execute_result"
    }
   ],
   "source": [
    "tokenizer(joint[110+10].replace(' |', '').replace('* ', ''), return_tensors='pt', max_length=67, padding='max_length')['input_ids']"
   ]
  },
  {
   "cell_type": "code",
   "execution_count": 143,
   "id": "12322a46-d84f-4764-9387-458a5b7da662",
   "metadata": {},
   "outputs": [
    {
     "data": {
      "text/plain": [
       "tensor([[25,  9, 13,  5,  5, 16, 11, 16,  3,  4,  6,  8, 19, 18,  2, 13, 18,  5,\n",
       "         12,  4, 14, 15, 12, 17, 18, 24]])"
      ]
     },
     "execution_count": 143,
     "metadata": {},
     "output_type": "execute_result"
    }
   ],
   "source": [
    "asdf = tokenizer(joint[110+10].replace(' |', '').replace('* ', ''), return_tensors='pt',)['input_ids']\n",
    "asdf"
   ]
  },
  {
   "cell_type": "code",
   "execution_count": 138,
   "id": "98ee74af-ffb8-4b33-92a4-78bcb41436fa",
   "metadata": {},
   "outputs": [
    {
     "data": {
      "text/plain": [
       "tensor([[1, 1, 1, 1, 1, 1, 1, 1, 1, 1, 1, 1, 1, 1, 1, 1, 1, 1, 1, 1, 1, 1, 1, 1,\n",
       "         1, 1, 0, 0, 0, 0, 0, 0, 0, 0, 0, 0, 0, 0, 0, 0, 0, 0, 0, 0, 0, 0, 0, 0,\n",
       "         0, 0, 0, 0, 0, 0, 0, 0, 0, 0, 0, 0, 0, 0, 0, 0, 0, 0, 0]])"
      ]
     },
     "execution_count": 138,
     "metadata": {},
     "output_type": "execute_result"
    }
   ],
   "source": [
    "qwer = tokenizer(joint[110+10].replace(' |', '').replace('* ', ''), return_tensors='pt', max_length=67, padding='max_length')['attention_mask']\n",
    "qwer"
   ]
  },
  {
   "cell_type": "code",
   "execution_count": 97,
   "id": "25a35217-167f-4e2d-b505-83a81ec04f6f",
   "metadata": {},
   "outputs": [
    {
     "data": {
      "text/plain": [
       "tensor([[25, 25,  9, 13, 13,  5,  6,  5, 13, 14, 16, 11,  2,  2, 11,  5,  8,  4,\n",
       "          6,  8, 19, 18, 24, 24]])"
      ]
     },
     "execution_count": 97,
     "metadata": {},
     "output_type": "execute_result"
    }
   ],
   "source": [
    "tokenizer(joint[110][:43], return_tensors='pt')['input_ids']"
   ]
  },
  {
   "cell_type": "code",
   "execution_count": 91,
   "id": "7b5865e5-25bf-4513-9584-fe443e1d99e4",
   "metadata": {},
   "outputs": [
    {
     "data": {
      "text/plain": [
       "tensor([[1, 1, 1, 1, 1, 1, 1, 1, 1, 1, 1, 1, 1, 1, 1, 1, 1, 1, 1, 1, 1, 1, 1, 1,\n",
       "         1, 1, 1, 1, 1, 1, 1, 1, 1, 1, 1, 1]])"
      ]
     },
     "execution_count": 91,
     "metadata": {},
     "output_type": "execute_result"
    }
   ],
   "source": [
    "tokenizer(joint[110], return_tensors='pt')['attention_mask']"
   ]
  },
  {
   "cell_type": "code",
   "execution_count": null,
   "id": "61c6d9d0-49a6-40c1-a0e9-407ae1ce144e",
   "metadata": {},
   "outputs": [],
   "source": []
  },
  {
   "cell_type": "code",
   "execution_count": 12,
   "id": "0ccf8697-7dd6-43c1-9aa7-675b7f7913da",
   "metadata": {},
   "outputs": [],
   "source": []
  },
  {
   "cell_type": "code",
   "execution_count": 34,
   "id": "2108251b-27a9-42c1-8d18-15162e5b5134",
   "metadata": {},
   "outputs": [
    {
     "name": "stderr",
     "output_type": "stream",
     "text": [
      "42it [00:09,  4.37it/s]\n",
      "\n",
      "KeyboardInterrupt\n",
      "\n"
     ]
    }
   ],
   "source": []
  },
  {
   "cell_type": "code",
   "execution_count": 145,
   "id": "46daac17-77ea-488b-b141-abba6d6faa57",
   "metadata": {},
   "outputs": [
    {
     "ename": "NameError",
     "evalue": "name 'epitope_train_dct' is not defined",
     "output_type": "error",
     "traceback": [
      "\u001b[0;31m---------------------------------------------------------------------------\u001b[0m",
      "\u001b[0;31mNameError\u001b[0m                                 Traceback (most recent call last)",
      "Cell \u001b[0;32mIn[145], line 1\u001b[0m\n\u001b[0;32m----> 1\u001b[0m \u001b[38;5;28;01mdel\u001b[39;00m epitope_train_dct\n",
      "\u001b[0;31mNameError\u001b[0m: name 'epitope_train_dct' is not defined"
     ]
    }
   ],
   "source": [
    "del epitope_train_dct"
   ]
  },
  {
   "cell_type": "code",
   "execution_count": 10,
   "id": "18ef9b47-51f8-4e7c-8a12-b98e96bdf91f",
   "metadata": {},
   "outputs": [],
   "source": [
    "pkl.dump(epitope_train_dct, open('epi_train_dct.pkl', 'wb'), )"
   ]
  },
  {
   "cell_type": "code",
   "execution_count": 11,
   "id": "396d5656-ca13-4013-babe-366657cecb59",
   "metadata": {},
   "outputs": [
    {
     "data": {
      "text/plain": [
       "dict_keys(['joint_full', 'epi_full', 'tcr_full', 'joint_pooled', 'epi_pooled', 'tcr_pooled'])"
      ]
     },
     "execution_count": 11,
     "metadata": {},
     "output_type": "execute_result"
    }
   ],
   "source": [
    "epitope_train_dct.keys()"
   ]
  },
  {
   "cell_type": "code",
   "execution_count": 71,
   "id": "c7f3047a-5890-43e3-a6a9-1a49645a4822",
   "metadata": {},
   "outputs": [
    {
     "ename": "NameError",
     "evalue": "name 'epitope_train_dct' is not defined",
     "output_type": "error",
     "traceback": [
      "\u001b[0;31m---------------------------------------------------------------------------\u001b[0m",
      "\u001b[0;31mNameError\u001b[0m                                 Traceback (most recent call last)",
      "Cell \u001b[0;32mIn[71], line 1\u001b[0m\n\u001b[0;32m----> 1\u001b[0m \u001b[43mepitope_train_dct\u001b[49m[\u001b[38;5;124m'\u001b[39m\u001b[38;5;124mjoint_full\u001b[39m\u001b[38;5;124m'\u001b[39m][\u001b[38;5;241m100\u001b[39m][:\u001b[38;5;241m10\u001b[39m]\n",
      "\u001b[0;31mNameError\u001b[0m: name 'epitope_train_dct' is not defined"
     ]
    }
   ],
   "source": [
    "epitope_train_dct['joint_full'][100][:10]"
   ]
  },
  {
   "cell_type": "code",
   "execution_count": 9,
   "id": "e24ee2c5-74de-44b8-9a35-9e40b7335a30",
   "metadata": {},
   "outputs": [],
   "source": [
    "import pickle as pkl\n"
   ]
  },
  {
   "cell_type": "code",
   "execution_count": null,
   "id": "a711e354-da01-4e41-b29e-8013d2423b4b",
   "metadata": {},
   "outputs": [],
   "source": []
  },
  {
   "cell_type": "code",
   "execution_count": null,
   "id": "1c6ed19c-596f-4370-8c80-1f3ed6c36903",
   "metadata": {},
   "outputs": [],
   "source": []
  },
  {
   "cell_type": "code",
   "execution_count": 87,
   "id": "446ec9ae-614a-40af-9502-890ace846e03",
   "metadata": {},
   "outputs": [],
   "source": [
    "asdf = bmod(**btok('random testing', return_tensors='pt'))"
   ]
  },
  {
   "cell_type": "code",
   "execution_count": 89,
   "id": "c605b0c7-35c7-4086-81b7-1cd5baf763f5",
   "metadata": {},
   "outputs": [
    {
     "data": {
      "text/plain": [
       "torch.Size([1, 4, 768])"
      ]
     },
     "execution_count": 89,
     "metadata": {},
     "output_type": "execute_result"
    }
   ],
   "source": [
    "asdf.last_hidden_state.shape"
   ]
  },
  {
   "cell_type": "code",
   "execution_count": null,
   "id": "c5bb484c-6ae3-4243-9c07-34d1cc725c34",
   "metadata": {},
   "outputs": [],
   "source": []
  },
  {
   "cell_type": "code",
   "execution_count": 90,
   "id": "9ed284e1-c46d-4fb6-989f-49d1aedf8d8b",
   "metadata": {},
   "outputs": [
    {
     "data": {
      "text/plain": [
       "torch.Size([1, 768])"
      ]
     },
     "execution_count": 90,
     "metadata": {},
     "output_type": "execute_result"
    }
   ],
   "source": [
    "asdf.pooler_output.shape"
   ]
  },
  {
   "cell_type": "code",
   "execution_count": null,
   "id": "31fbeb9f-2b28-4493-aaaa-73c4fb234272",
   "metadata": {},
   "outputs": [],
   "source": []
  },
  {
   "cell_type": "code",
   "execution_count": null,
   "id": "b1ca07ec-5160-4ee5-b73c-5713b99dc693",
   "metadata": {},
   "outputs": [],
   "source": []
  },
  {
   "cell_type": "code",
   "execution_count": 73,
   "id": "3bfcdfdc-4a54-4ae7-abe6-b0935d6fa537",
   "metadata": {},
   "outputs": [
    {
     "name": "stderr",
     "output_type": "stream",
     "text": [
      "  1%|▍                                     | 627/48042 [00:03<04:47, 165.02it/s]\n",
      "\n",
      "KeyboardInterrupt\n",
      "\n"
     ]
    }
   ],
   "source": [
    "embs = []\n",
    "\n",
    "dl = DataLoader(ds, shuffle=False, batch_size=128)\n",
    "\n",
    "\n",
    "for ii in tqdm.tqdm(range(len(ds))):\n",
    "    epi, tcr, label = ds[ii]\n",
    "    seqs = cls_sep_sep_proc_for_tokenize_tcrbert({'Epitopes':[epi], 'TCR': [tcr]}, tokenizer)\n",
    "\n",
    "    with torch.no_grad():\n",
    "        tokenized = tokenizer(seqs, return_tensors='pt')\n",
    "        tokenized = {key:value.to('cuda') for key, value in tokenized.items()}\n",
    "        outputs = model(**tokenized)\n",
    "    # break  \n",
    "\n",
    "tokenized"
   ]
  },
  {
   "cell_type": "code",
   "execution_count": 60,
   "id": "68b6649d-127a-49c0-9729-bb4c8969b1d1",
   "metadata": {},
   "outputs": [
    {
     "ename": "SyntaxError",
     "evalue": "unexpected EOF while parsing (1006591627.py, line 1)",
     "output_type": "error",
     "traceback": [
      "\u001b[0;36m  Cell \u001b[0;32mIn[60], line 1\u001b[0;36m\u001b[0m\n\u001b[0;31m    for ii, batch in tqdm.tqdm(range(len)\u001b[0m\n\u001b[0m                                         ^\u001b[0m\n\u001b[0;31mSyntaxError\u001b[0m\u001b[0;31m:\u001b[0m unexpected EOF while parsing\n"
     ]
    }
   ],
   "source": [
    "for ii, batch in tqdm.tqdm(range(len)"
   ]
  },
  {
   "cell_type": "raw",
   "id": "2a9b31d4-2266-4a96-904c-28e5381c4cb5",
   "metadata": {},
   "source": []
  },
  {
   "cell_type": "raw",
   "id": "b8c1c9a3-f2ed-43ed-aea9-23fc638d96f9",
   "metadata": {},
   "source": []
  },
  {
   "cell_type": "raw",
   "id": "43e0ec7e-c331-4d13-b2e2-37688635d25a",
   "metadata": {},
   "source": [
    "for "
   ]
  },
  {
   "cell_type": "code",
   "execution_count": null,
   "id": "d0af8b62-928a-4e3e-b694-f7f6dcda4b4f",
   "metadata": {},
   "outputs": [],
   "source": []
  },
  {
   "cell_type": "code",
   "execution_count": 30,
   "id": "eb9125d7-d772-462a-acfa-1a6a3eea53e5",
   "metadata": {},
   "outputs": [],
   "source": [
    "def get_embeddings_for_dataset(dataframe:pd.DataFrame, tokenizer, model):\n",
    "    ds = BindingDataset(dataframe)\n",
    "    ds = ds.return_as_datasets()          \n"
   ]
  },
  {
   "cell_type": "code",
   "execution_count": null,
   "id": "aa0bb128-8f8f-4c55-aaee-b1937ddd1100",
   "metadata": {},
   "outputs": [],
   "source": []
  },
  {
   "cell_type": "code",
   "execution_count": 5,
   "id": "b878985c-690a-44d4-befa-53c0f6adbe41",
   "metadata": {},
   "outputs": [
    {
     "ename": "NameError",
     "evalue": "name 'dftte' is not defined",
     "output_type": "error",
     "traceback": [
      "\u001b[0;31m---------------------------------------------------------------------------\u001b[0m",
      "\u001b[0;31mNameError\u001b[0m                                 Traceback (most recent call last)",
      "Cell \u001b[0;32mIn[5], line 4\u001b[0m\n\u001b[1;32m      1\u001b[0m ii\u001b[38;5;241m=\u001b[39m\u001b[38;5;241m0\u001b[39m\n\u001b[1;32m      2\u001b[0m batch_size\u001b[38;5;241m=\u001b[39m\u001b[38;5;241m128\u001b[39m\n\u001b[0;32m----> 4\u001b[0m dataframe \u001b[38;5;241m=\u001b[39m \u001b[43mdftte\u001b[49m\n\u001b[1;32m      5\u001b[0m ds \u001b[38;5;241m=\u001b[39m BindingDataset(dataframe)\n\u001b[1;32m      6\u001b[0m ds \u001b[38;5;241m=\u001b[39m ds\u001b[38;5;241m.\u001b[39mreturn_as_datasets()\n",
      "\u001b[0;31mNameError\u001b[0m: name 'dftte' is not defined"
     ]
    }
   ],
   "source": [
    "ii=0\n",
    "batch_size=128\n",
    "\n",
    "dataframe = dftte\n",
    "ds = BindingDataset(dataframe)\n",
    "ds = ds.return_as_datasets()\n",
    "\n",
    "from torch.utils.data import DataLoader\n",
    "dl = DataLoader(ds, shuffle=False, batch_size=32)\n"
   ]
  },
  {
   "cell_type": "code",
   "execution_count": 28,
   "id": "ab6cb1c8-963a-4e12-9382-cfa47afbaba6",
   "metadata": {},
   "outputs": [
    {
     "data": {
      "text/plain": [
       "{'input_ids': [25, 25, 9, 0, 14, 16, 9, 9, 19, 14, 16, 24], 'token_type_ids': [0, 0, 0, 0, 0, 0, 0, 0, 0, 0, 0, 0], 'attention_mask': [1, 1, 1, 1, 1, 1, 1, 1, 1, 1, 1, 1]}"
      ]
     },
     "execution_count": 28,
     "metadata": {},
     "output_type": "execute_result"
    }
   ],
   "source": [
    "tokenizer('* ' + ' '.join(dftte.Epitope.values[400]))"
   ]
  },
  {
   "cell_type": "code",
   "execution_count": null,
   "id": "1edadeba-023d-4e09-a9e6-0bfa3a371160",
   "metadata": {},
   "outputs": [],
   "source": [
    "tokenizer.cls_token"
   ]
  },
  {
   "cell_type": "code",
   "execution_count": 26,
   "id": "a5e26515-6c64-4134-a2c4-23526250aafd",
   "metadata": {},
   "outputs": [],
   "source": []
  },
  {
   "cell_type": "code",
   "execution_count": null,
   "id": "0c2eb59e-6053-444a-87ee-bf25b3e31a90",
   "metadata": {},
   "outputs": [],
   "source": [
    "''' Extract Embeddings for tcr-bert'''"
   ]
  },
  {
   "cell_type": "code",
   "execution_count": 90,
   "id": "b1634cef-bbdc-4e07-a8c9-4f4f9fddf83b",
   "metadata": {},
   "outputs": [],
   "source": [
    "\n",
    "for batch in dl:\n",
    "    joint_seq_toked = cls_sep_sep_proc_for_tokenize(batch, tokenizer)\n",
    "    epi_seqs, tcr_seqs = single_sep_proc_for_tokenize(batch, tokenizer)\n",
    "    joint_toked = tokenizer(joint_seq_toked, return_tensors='pt')\n",
    "    break\n",
    "    "
   ]
  },
  {
   "cell_type": "code",
   "execution_count": null,
   "id": "2e523ec7-6c0f-4dd1-947e-79b614c2e3ea",
   "metadata": {},
   "outputs": [],
   "source": []
  },
  {
   "cell_type": "code",
   "execution_count": null,
   "id": "2853f615-6552-4636-a334-c3e1f3550dda",
   "metadata": {},
   "outputs": [],
   "source": []
  },
  {
   "cell_type": "code",
   "execution_count": 89,
   "id": "bb2e8237-27d4-46e3-9dc9-bf8a70911480",
   "metadata": {},
   "outputs": [],
   "source": [
    "with torch.no_grad():\n",
    "    epi_toked = tokenizer(epi_seqs, return_tensors='pt')\n",
    "    embs_epi = model(**epi_toked)    \n",
    "    \n",
    "    epi_toked = tokenizer(epi_seqs, return_tensors='pt')\n",
    "    embs_epi = model(**epi_toked)    "
   ]
  },
  {
   "cell_type": "code",
   "execution_count": 92,
   "id": "6f5ca1ef-e7e6-48b4-96e4-f3618842c5f6",
   "metadata": {},
   "outputs": [],
   "source": [
    "import torch\n",
    "with torch.no_grad():\n",
    "    joint_toked = tokenizer(joint_seq_toked, return_tensors='pt')\n",
    "    joint_embs = model(**joint_toked)"
   ]
  },
  {
   "cell_type": "code",
   "execution_count": 96,
   "id": "a1681729-a49e-4728-a513-fb2edb0828aa",
   "metadata": {},
   "outputs": [
    {
     "data": {
      "text/plain": [
       "torch.Size([32, 7, 768])"
      ]
     },
     "execution_count": 96,
     "metadata": {},
     "output_type": "execute_result"
    }
   ],
   "source": [
    "joint_embs.last_hidden_state.shape"
   ]
  },
  {
   "cell_type": "code",
   "execution_count": 151,
   "id": "015a3944-c912-4b97-aace-03a8b7a9ac76",
   "metadata": {},
   "outputs": [],
   "source": [
    "bert_pengfei_dir = '/home/prad/ASU Dropbox/Pradyumna Kadambi/BERT-Base-TCR'\n",
    "tokenizer = BertTokenizer.from_pretrained(bert_pengfei_dir, do_lower_case=False )\n",
    "model = BertModel.from_pretrained(bert_pengfei_dir)\n",
    "\n"
   ]
  },
  {
   "cell_type": "code",
   "execution_count": null,
   "id": "ae84681a-da95-4ace-94d3-98b7b4f1a26c",
   "metadata": {},
   "outputs": [],
   "source": [
    "dftt"
   ]
  },
  {
   "cell_type": "code",
   "execution_count": 163,
   "id": "5a223e52-e15b-40db-a180-caebd9e5945c",
   "metadata": {},
   "outputs": [
    {
     "data": {
      "text/plain": [
       "tensor([[2, 1, 3]])"
      ]
     },
     "execution_count": 163,
     "metadata": {},
     "output_type": "execute_result"
    }
   ],
   "source": [
    "tokenizer(_seqs[1], return_tensors='pt')['input_ids']"
   ]
  },
  {
   "cell_type": "code",
   "execution_count": 164,
   "id": "15d502b2-ff5b-49fe-9556-b632f9a33bcd",
   "metadata": {},
   "outputs": [
    {
     "data": {
      "text/plain": [
       "'CASSQEGLAGASQYF'"
      ]
     },
     "execution_count": 164,
     "metadata": {},
     "output_type": "execute_result"
    }
   ],
   "source": [
    "_seqs[0]"
   ]
  },
  {
   "cell_type": "code",
   "execution_count": 165,
   "id": "5e377dc9-51ef-4eda-91c3-312f35f26747",
   "metadata": {},
   "outputs": [
    {
     "data": {
      "text/plain": [
       "'CASSQETDIVFNOPQHF'"
      ]
     },
     "execution_count": 165,
     "metadata": {},
     "output_type": "execute_result"
    }
   ],
   "source": [
    "_seqs[1]"
   ]
  },
  {
   "cell_type": "code",
   "execution_count": 145,
   "id": "c798004f-bbcc-400c-ae7c-f48e35bab3a2",
   "metadata": {},
   "outputs": [],
   "source": [
    "import re\n",
    "import numpy as np\n",
    "epi_seqs_sub = np.array([re.sub(r'[UZOB]', 'x', seq) for seq in epi_seqs])"
   ]
  },
  {
   "cell_type": "code",
   "execution_count": null,
   "id": "9b539394-17a4-4edc-8f2b-6301e8c266d7",
   "metadata": {},
   "outputs": [],
   "source": []
  },
  {
   "cell_type": "code",
   "execution_count": null,
   "id": "6629b861-b221-4fe7-999f-870fa4960920",
   "metadata": {},
   "outputs": [],
   "source": [
    "[ep]"
   ]
  },
  {
   "cell_type": "code",
   "execution_count": 110,
   "id": "1bb1efa9-18fc-493f-9638-81d06113e361",
   "metadata": {},
   "outputs": [],
   "source": [
    "with torch.no_grad():\n",
    "#     joint_toked = tokenizer.encode_plus(joint_seq_toked, return_tensors='pt', add_special_tokens=True)\n",
    "    joint_toked = tokenizer(joint_seq_toked, return_tensors='pt', add_special_tokens=True)\n",
    "    joint_embs = model(**joint_toked)"
   ]
  },
  {
   "cell_type": "code",
   "execution_count": null,
   "id": "0486e8bf-a3ff-4787-ad12-8bd6502b4569",
   "metadata": {},
   "outputs": [],
   "source": []
  },
  {
   "cell_type": "code",
   "execution_count": 113,
   "id": "54f6056b-3690-4fad-97dc-10ad163dcc80",
   "metadata": {},
   "outputs": [
    {
     "data": {
      "text/plain": [
       "{'input_ids': tensor([[25, 23, 23, 23, 23, 23, 23, 23, 23, 23, 23, 23, 23, 23, 23, 23, 23, 23,\n",
       "         23, 23, 23, 23, 23, 23, 23, 23, 23, 23, 23, 23, 23, 23, 23, 24]]), 'token_type_ids': tensor([[0, 0, 0, 0, 0, 0, 0, 0, 0, 0, 0, 0, 0, 0, 0, 0, 0, 0, 0, 0, 0, 0, 0, 0,\n",
       "         0, 0, 0, 0, 0, 0, 0, 0, 0, 0]]), 'attention_mask': tensor([[1, 1, 1, 1, 1, 1, 1, 1, 1, 1, 1, 1, 1, 1, 1, 1, 1, 1, 1, 1, 1, 1, 1, 1,\n",
       "         1, 1, 1, 1, 1, 1, 1, 1, 1, 1]])}"
      ]
     },
     "execution_count": 113,
     "metadata": {},
     "output_type": "execute_result"
    }
   ],
   "source": [
    "tokenizer.encode_plus(joint_seq_toked, return_tensors='pt')"
   ]
  },
  {
   "cell_type": "code",
   "execution_count": null,
   "id": "6c4e3abe-fa3c-42bc-a93e-16af3b1932e6",
   "metadata": {},
   "outputs": [],
   "source": [
    "embs"
   ]
  },
  {
   "cell_type": "code",
   "execution_count": 115,
   "id": "20e39023-f915-4168-913b-90da2cda73f8",
   "metadata": {},
   "outputs": [],
   "source": [
    "from transformers import AutoTokenizer\n",
    "btok = AutoTokenizer.from_pretrained('bert-base-uncased')"
   ]
  },
  {
   "cell_type": "code",
   "execution_count": 117,
   "id": "a6377bcf-2919-49b9-b155-02d58eec2f64",
   "metadata": {},
   "outputs": [
    {
     "data": {
      "text/plain": [
       "{'input_ids': [101, 1031, 18856, 2015, 1033, 7592, 2088, 999, 102], 'token_type_ids': [0, 0, 0, 0, 0, 0, 0, 0, 0], 'attention_mask': [1, 1, 1, 1, 1, 1, 1, 1, 1]}"
      ]
     },
     "execution_count": 117,
     "metadata": {},
     "output_type": "execute_result"
    }
   ],
   "source": [
    "btok('[cls]Hello World!')"
   ]
  },
  {
   "cell_type": "code",
   "execution_count": null,
   "id": "6947b4c9-572c-4cd0-8d04-87e3322dc4f2",
   "metadata": {},
   "outputs": [],
   "source": [
    "# apply pca\n"
   ]
  },
  {
   "cell_type": "code",
   "execution_count": null,
   "id": "738542cb-54a8-46a6-a8f7-68d4a5620074",
   "metadata": {},
   "outputs": [],
   "source": []
  },
  {
   "cell_type": "code",
   "execution_count": null,
   "id": "84bf289a-c7e9-4639-ad99-a9653ed4401a",
   "metadata": {},
   "outputs": [],
   "source": []
  },
  {
   "cell_type": "code",
   "execution_count": null,
   "id": "a9dca3d2-4aa9-4b03-acd8-b4a2fc7771c1",
   "metadata": {},
   "outputs": [],
   "source": [
    "cross attention module"
   ]
  },
  {
   "cell_type": "code",
   "execution_count": null,
   "id": "287cb5e0-50fb-45e1-a7a7-6aa9f999f79f",
   "metadata": {},
   "outputs": [],
   "source": []
  },
  {
   "cell_type": "code",
   "execution_count": null,
   "id": "871eca71-8b39-400f-9443-54751a35ca90",
   "metadata": {},
   "outputs": [],
   "source": []
  },
  {
   "cell_type": "code",
   "execution_count": null,
   "id": "d9b685e2-4025-4be1-b84d-5436ab30d8ba",
   "metadata": {},
   "outputs": [],
   "source": []
  },
  {
   "cell_type": "code",
   "execution_count": 124,
   "id": "93a9cf23-6fcc-4ed0-b91c-d91ac1cc2df6",
   "metadata": {},
   "outputs": [
    {
     "data": {
      "text/plain": [
       "{'input_ids': [101, 101, 7592, 2088, 999, 102, 102], 'token_type_ids': [0, 0, 0, 0, 0, 0, 0], 'attention_mask': [1, 1, 1, 1, 1, 1, 1]}"
      ]
     },
     "execution_count": 124,
     "metadata": {},
     "output_type": "execute_result"
    }
   ],
   "source": [
    "btok('[CLS] Hello World! [SEP]')"
   ]
  },
  {
   "cell_type": "code",
   "execution_count": 125,
   "id": "929a3634-24a8-4cc0-9214-fff0a5268c41",
   "metadata": {},
   "outputs": [
    {
     "data": {
      "text/plain": [
       "{'input_ids': [25, 23, 24], 'token_type_ids': [0, 0, 0], 'attention_mask': [1, 1, 1]}"
      ]
     },
     "execution_count": 125,
     "metadata": {},
     "output_type": "execute_result"
    }
   ],
   "source": [
    "tokenizer(batch['Epitopes'][0])"
   ]
  },
  {
   "cell_type": "code",
   "execution_count": 127,
   "id": "9a774c9d-d281-46ec-8d00-7a825709683f",
   "metadata": {},
   "outputs": [
    {
     "data": {
      "text/plain": [
       "{'unk_token': '?',\n",
       " 'sep_token': '|',\n",
       " 'pad_token': '$',\n",
       " 'cls_token': '*',\n",
       " 'mask_token': '.'}"
      ]
     },
     "execution_count": 127,
     "metadata": {},
     "output_type": "execute_result"
    }
   ],
   "source": [
    "tokenizer.special_tokens_map"
   ]
  },
  {
   "cell_type": "code",
   "execution_count": 131,
   "id": "6be0f57d-e5fd-4ab7-bb92-fa63dac82053",
   "metadata": {},
   "outputs": [
    {
     "data": {
      "text/plain": [
       "{'input_ids': [25, 23, 24], 'token_type_ids': [0, 0, 0], 'attention_mask': [1, 1, 1]}"
      ]
     },
     "execution_count": 131,
     "metadata": {},
     "output_type": "execute_result"
    }
   ],
   "source": [
    "tokenizer(f\"{batch['Epitopes'][0]}\")"
   ]
  },
  {
   "cell_type": "code",
   "execution_count": 130,
   "id": "dd51de4a-9d75-4f2f-8680-29872c7ddde7",
   "metadata": {},
   "outputs": [
    {
     "data": {
      "text/plain": [
       "{'input_ids': [25, 23, 23, 23, 23, 24], 'token_type_ids': [0, 0, 0, 0, 0, 0], 'attention_mask': [1, 1, 1, 1, 1, 1]}"
      ]
     },
     "execution_count": 130,
     "metadata": {},
     "output_type": "execute_result"
    }
   ],
   "source": [
    "tokenizer(f\"[cls]{batch['Epitopes'][0]}\")"
   ]
  },
  {
   "cell_type": "code",
   "execution_count": 63,
   "id": "27f51732-dcd6-4e37-ba10-b9da05477f2b",
   "metadata": {},
   "outputs": [
    {
     "data": {
      "text/plain": [
       "torch.Size([32, 7, 768])"
      ]
     },
     "execution_count": 63,
     "metadata": {},
     "output_type": "execute_result"
    }
   ],
   "source": [
    "embs.last_hidden_state.shape"
   ]
  },
  {
   "cell_type": "code",
   "execution_count": 44,
   "id": "bdf4b42d-a28e-411b-a3a2-2e9462d6769b",
   "metadata": {},
   "outputs": [
    {
     "name": "stdout",
     "output_type": "stream",
     "text": [
      "[25, 25, 23, 24, 24]\n"
     ]
    }
   ],
   "source": [
    "print(outs['input_ids'][0])\n",
    "print(outs['input_ids'][0])\n",
    "print(outs['input_ids'][0])"
   ]
  },
  {
   "cell_type": "code",
   "execution_count": null,
   "id": "89a3819c-4a2c-4cad-8b57-3acad656316c",
   "metadata": {},
   "outputs": [],
   "source": [
    "print()"
   ]
  },
  {
   "cell_type": "code",
   "execution_count": 39,
   "id": "d982ddd7-5629-4c54-b6c2-e086e67774fb",
   "metadata": {},
   "outputs": [],
   "source": [
    "outs = tokenizer(epi_seqs)"
   ]
  },
  {
   "cell_type": "code",
   "execution_count": null,
   "id": "5bd80e6f-8379-475c-b27f-23d17ffe07d0",
   "metadata": {},
   "outputs": [],
   "source": [
    "''' Extract Embeddings for t5'''"
   ]
  },
  {
   "cell_type": "code",
   "execution_count": null,
   "id": "79d9a71d-c85c-4cc7-beff-b95e934402e4",
   "metadata": {},
   "outputs": [],
   "source": []
  },
  {
   "cell_type": "code",
   "execution_count": null,
   "id": "90b5aba0-437e-4a80-b40e-bf991f8d662b",
   "metadata": {},
   "outputs": [],
   "source": []
  },
  {
   "cell_type": "code",
   "execution_count": null,
   "id": "a69ba110-9ef4-4cca-ab32-9a8c1c41639a",
   "metadata": {},
   "outputs": [],
   "source": [
    "for ii in range:"
   ]
  },
  {
   "cell_type": "code",
   "execution_count": 13,
   "id": "a3b7a2b0-c104-4aa7-9980-8b6c328febaa",
   "metadata": {},
   "outputs": [
    {
     "name": "stderr",
     "output_type": "stream",
     "text": [
      "The tokenizer class you load from this checkpoint is not the same type as the class this function is called from. It may result in unexpected tokenization. \n",
      "The tokenizer class you load from this checkpoint is 'TCRT5Tokenizer'. \n",
      "The class this function is called from is 'T5Tokenizer'.\n",
      "/home/prad/anaconda3/envs/tcrbert/lib/python3.9/site-packages/transformers/generation/configuration_utils.py:818: UserWarning: `return_dict_in_generate` is NOT set to `True`, but `output_attentions` is. When `return_dict_in_generate` is not `True`, `output_attentions` is ignored.\n",
      "  warnings.warn(\n",
      "/home/prad/anaconda3/envs/tcrbert/lib/python3.9/site-packages/transformers/generation/configuration_utils.py:818: UserWarning: `return_dict_in_generate` is NOT set to `True`, but `output_hidden_states` is. When `return_dict_in_generate` is not `True`, `output_hidden_states` is ignored.\n",
      "  warnings.warn(\n",
      "/home/prad/anaconda3/envs/tcrbert/lib/python3.9/site-packages/transformers/generation/configuration_utils.py:818: UserWarning: `return_dict_in_generate` is NOT set to `True`, but `output_scores` is. When `return_dict_in_generate` is not `True`, `output_scores` is ignored.\n",
      "  warnings.warn(\n",
      "/home/prad/anaconda3/envs/tcrbert/lib/python3.9/site-packages/transformers/models/t5/tokenization_t5.py:289: UserWarning: This sequence already has [EOS]. In future versions this behavior may lead to duplicated eos tokens being added.\n",
      "  warnings.warn(\n"
     ]
    }
   ],
   "source": [
    "from transformers import T5Tokenizer, T5ForConditionalGeneration\n",
    "t5tokenizer = T5Tokenizer.from_pretrained('dkarthikeyan1/tcrt5_pre_tcrdb')\n",
    "tcrt5 = T5ForConditionalGeneration.from_pretrained(\"dkarthikeyan1/tcrt5_pre_tcrdb\")\n",
    "pmhc = \"[PMHC]KLGGALQAK[SEP]YFAMYQENVAQTDVDTLYIIYRDYTWAELAYTWY[EOS]\"\n",
    "encoded_pmhc = t5tokenizer(pmhc, return_tensors='pt')\n",
    "\n",
    "# Can be useful for classification/regression downstream tasks\n",
    "enc_outputs = tcrt5.encoder(**encoded_pmhc)\n"
   ]
  },
  {
   "cell_type": "code",
   "execution_count": null,
   "id": "4e5040d6-c8bc-4d95-9163-4bc667af55d4",
   "metadata": {},
   "outputs": [],
   "source": []
  },
  {
   "cell_type": "code",
   "execution_count": null,
   "id": "0f4154bb-5b46-48c4-b4b8-169cedb43a90",
   "metadata": {},
   "outputs": [],
   "source": []
  }
 ],
 "metadata": {
  "kernelspec": {
   "display_name": "pt251",
   "language": "python",
   "name": "pt251"
  },
  "language_info": {
   "codemirror_mode": {
    "name": "ipython",
    "version": 3
   },
   "file_extension": ".py",
   "mimetype": "text/x-python",
   "name": "python",
   "nbconvert_exporter": "python",
   "pygments_lexer": "ipython3",
   "version": "3.10.15"
  }
 },
 "nbformat": 4,
 "nbformat_minor": 5
}
